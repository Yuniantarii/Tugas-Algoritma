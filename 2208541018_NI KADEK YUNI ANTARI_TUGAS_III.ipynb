{
 "cells": [
  {
   "cell_type": "markdown",
   "id": "30639eb0",
   "metadata": {},
   "source": [
    "# TUGAS PERTEMUAN KETIGA (20/03/2023)"
   ]
  },
  {
   "cell_type": "markdown",
   "id": "70987113",
   "metadata": {},
   "source": [
    "## 5.5 Strings Index"
   ]
  },
  {
   "cell_type": "markdown",
   "id": "65dcf7fa",
   "metadata": {},
   "source": [
    "### 5.5.1 Pendahuluan\n",
    "String index merupakan penomoran dari data tipe string. Dimana urutan dimulai dari 0 dan berlanjut sampai data berupa string berakhir. Untuk mempermudah, urutan terakhir dari data tersebut diberi index -1."
   ]
  },
  {
   "cell_type": "markdown",
   "id": "fd0f93ac",
   "metadata": {},
   "source": [
    "### 5.5.2 Contoh Latihan Strings Index"
   ]
  },
  {
   "cell_type": "code",
   "execution_count": 10,
   "id": "52a5aa67",
   "metadata": {},
   "outputs": [
    {
     "name": "stdout",
     "output_type": "stream",
     "text": [
      "NI KADEK \n",
      "NI KADEK\n"
     ]
    }
   ],
   "source": [
    "#Latihan 1\n",
    "\n",
    "#pertama-tama pikirkan sebuah parameter yang merupakan variabel, berikut adalah contohnya:\n",
    "#jangan lupa dalam penulisan variabel harus menggunakan tanda ' ' atau \" \"\n",
    "NAMA_18 = 'NI KADEK YUNI ANTARI'\n",
    "#coba hitung jumlah huruf dari variabel tersebut\n",
    "#dalam menghitung jumlah huruf harus berurutan, termasuk spasi juga dihitung\n",
    "#setelah menghitung ternyata ada 20 urutan yang terdiri dari 17 huruf dan 3 spasi\n",
    "#urutannya dimulai dari N yaitu 0 dan seterusnya sampai kata terakhir yaitu I urutan ke 20\n",
    "\n",
    "print(NAMA_18[0:9])\n",
    "#menggunaakan tanda bagi (:) yang artinya sampai dan menggunakan kurung siku []\n",
    "#urutan ke 0 adalah N dan urutan ke 9 adalah Y (termasuk spasi juga dihitung di urutan ke 2)\n",
    "#hasil outputnya adalah dari kata urutan ke 0 sampai 8 (ada spasi diakhir kata KADEK tapi tidak terlihat)\n",
    "#kenapa urutan huruf ke 9 yaitu Y tidak ikut? karena memang aturan dalam python seperti itu, harus dilebihkan satu urutannya\n",
    "print(NAMA_18[0:8])\n",
    "#outputnya akan terlihat sama, tetapi pada kasus ini hanya urutan ke 0 sampai 7 jadi spasi tidak ikut\n",
    "#ingat jangan bingung, karena untuk menghasilkan output \"NI KADEK\" harus dilebihkan satu urutan sesuai aturan dalam python, namun urutan yang lebih tersebut tidak ikut ketika kita run"
   ]
  },
  {
   "cell_type": "code",
   "execution_count": 12,
   "id": "18312922",
   "metadata": {},
   "outputs": [
    {
     "name": "stdout",
     "output_type": "stream",
     "text": [
      "KADEK YUNI ANTAR\n",
      " KADEK YUNI ANTAR\n",
      "KADEK YUNI ANTA\n"
     ]
    }
   ],
   "source": [
    "#Latihan 2\n",
    "\n",
    "#aturannya sama seperti latihan 1\n",
    "#menggunakan parameter berupa variabel yang sama seperti latihan 1\n",
    "NAMA_18 = 'NI KADEK YUNI ANTARI'\n",
    "#sebenarnya tidak usah dideklarasikan lagi juga tidak apa karena sudah tersimpan dalam memori ketika kita run latihan 1\n",
    "print(NAMA_18[3:-1])\n",
    "#untuk mempermudah perhitungan uruutan, ketika ingin menghitung urutan huruf dari belakang juga bisa dengan menggunakan tanda minus (-)\n",
    "#misalkan index -1 adalah huruf terakhir yaitu huruf I pada kata ANTARI\n",
    "#namun tetap ingat ketika ingin menghitung [0:-1], ingat bahwa urutan kata -1 atau kata terakhir tidak ikut\n",
    "print(NAMA_18[2:-1])\n",
    "#lihat perbedaan hasil outputnya, pada kasus ini spasinya ikut\n",
    "print(NAMA_18[3:-2])\n",
    "#index 2 adalah huruf kedua terakhir yaitu huruf R pada kata ANTARI\n",
    "#jadi outputnya dari kata ke 3 sampai -3"
   ]
  },
  {
   "cell_type": "code",
   "execution_count": 29,
   "id": "168e11ed",
   "metadata": {},
   "outputs": [
    {
     "name": "stdout",
     "output_type": "stream",
     "text": [
      "NI KADEK YUNI \n",
      "NI KADEK YUNI \n",
      "ANTARI\n",
      "NI KADEK YUNI ANTARI\n",
      "NI KADEK YUNI ANTARI\n"
     ]
    }
   ],
   "source": [
    "#Latihan 3\n",
    "\n",
    "#aturannya masih sama\n",
    "#masih menggunakan parameter berupa variabel yang sama pula seperti latihan sebelumnya\n",
    "#kali ini coba jangan ketik ulang parameter dan variabelnya, langsung ke latihan saja\n",
    "print(NAMA_18[:14])\n",
    "#artinya dari urutan paling awal yaitu 0 sampai urutan ke 14\n",
    "print(NAMA_18[0:14])\n",
    "#hasilnya akan sama seperti contoh diatasnya\n",
    "print(NAMA_18[14:])\n",
    "#artinya adalah urutan ke 14 sampai akhir\n",
    "#saya mencoba menggunakan [14:0], ternyata tidak bisa menghasilkan yang sama. urutan ke 0 tidak bisa digunakan seperti demikian, hanya bisa digunakan urutan awal bukan urutan akhir\n",
    "print(NAMA_18[:])\n",
    "#artinya dari urutan paling awal sampai urutan paling akhir, dimana setelah di run hasilnya berupa variabel yang lengkap dari pendeklarasian parameternya\n",
    "print(NAMA_18[0:])\n",
    "#contoh yang sama, namun diawal menggunakan 0. Ingat urutan ke 0 tidak bisa digunakan diakhir urutan"
   ]
  },
  {
   "cell_type": "code",
   "execution_count": 47,
   "id": "89da89d2",
   "metadata": {},
   "outputs": [
    {
     "name": "stdout",
     "output_type": "stream",
     "text": [
      "YN NA\n",
      "NA IT\n",
      "NKEYIN\n"
     ]
    }
   ],
   "source": [
    "#Latihan 4\n",
    "\n",
    "#aturannya masih sama\n",
    "#masih menggunakan parameter berupa variabel yang sama pula seperti latihan sebelumnya\n",
    "#kali ini coba jangan ketik ulang parameter dan variabelnya, langsung ke latihan saja\n",
    "#mencoba latihan 3 index\n",
    "print(NAMA_18[9:-1:2])\n",
    "#ketika ditulis seperti diatas maka hasilnya adalah urutan ke 9 dari awal sampai urutan ke -1 diakhir dengan jarak loncatan 2 kali\n",
    "#dalam arti lain, urutan yang memiliki batas urutan dari index 9 sampai -1 dengan setiap loncatan nya adalah 2\n",
    "#[9:-1] adalah YUNI ANTAR, kemudian loncat 2 kali hingga mencapai batas akhir hasilnya adalah 'N NA'\n",
    "#index awal selalu ikut, misal nya index 9 yaitu N pasti ikut\n",
    "print(NAMA_18[0: : 4])\n",
    "#urutan dari awal yaitu 0 sampai akhir dengan loncatan 4\n",
    "print(NAMA_18[ :-4:3])\n",
    "#urutan ke 0 dari awal sampai urutan ke 4 dari bealakang yaitu NI KADEK YUNI AN\n",
    "#loncatan ketiga, menghasilkan NKEYIN, untuk membuktikan silahkan run"
   ]
  },
  {
   "cell_type": "markdown",
   "id": "54ee9204",
   "metadata": {},
   "source": [
    "## 5.6 Strings Methods"
   ]
  },
  {
   "cell_type": "markdown",
   "id": "49666c8b",
   "metadata": {},
   "source": [
    "### 5.6.1 Pendahuluan\n",
    "Ada beberapa methoda yang banyak digunakan pada variabel berjenis string.\n",
    "Beberapa methoda itu dapat dilihat seperti contoh-contoh di bawah."
   ]
  },
  {
   "cell_type": "markdown",
   "id": "6b9a3c7c",
   "metadata": {},
   "source": [
    "### 5.6.2 Contoh Latihan"
   ]
  },
  {
   "cell_type": "code",
   "execution_count": 85,
   "id": "a949d453",
   "metadata": {},
   "outputs": [
    {
     "name": "stdout",
     "output_type": "stream",
     "text": [
      "32\n",
      "15\n",
      "24\n",
      "16\n"
     ]
    }
   ],
   "source": [
    "#Latihan 1\n",
    "\n",
    "#pikirkan parameter berupa variabelnya\n",
    "#misalkan sebagai berikut\n",
    "Jurusan_18 = 'Program Studi Matematika Udayana'\n",
    "#len adalah untuk menghitung seluruh jumlah huruf dan spasi pada variabel, mulainya adalah dari 1 bukan 0\n",
    "\n",
    "print(len(Jurusan_18))\n",
    "#jumlahnya adalah 32, bisa dibuktikan dengan run\n",
    "print(len(Jurusan_18[0:15]))\n",
    "#mencoba padukan dengan index\n",
    "#akan terbukti jumlah huruf dari 0 sampai 15 adalah 15\n",
    "print(len(Jurusan_18[8: ]))\n",
    "#jadi hitung jumlah urutan huruf dari urutan ke 8 sampai akhir yaitu 'Studi Matematika Udayana'\n",
    "print(len(Jurusan_18[8:-8]))\n",
    "#jadi hitung jumlah urutan dari 8 hingga -9"
   ]
  },
  {
   "cell_type": "code",
   "execution_count": 94,
   "id": "5c90c1ea",
   "metadata": {},
   "outputs": [
    {
     "data": {
      "text/plain": [
       "'PROGRAM STUDI MATEMATIKA UDAYANA'"
      ]
     },
     "execution_count": 94,
     "metadata": {},
     "output_type": "execute_result"
    }
   ],
   "source": [
    "#Latihan 2\n",
    "\n",
    "#masih dengan parameter yang sama seperti latihan 1\n",
    "Jurusan_18 = 'Program Studi Matematika Udayana'\n",
    "#upper untuk mengubah judul menjadi huruf kapital semua\n",
    "\n",
    "Jurusan_18.upper()\n",
    "#akan mengubah vaiabel menjadi huruf kapital semua"
   ]
  },
  {
   "cell_type": "code",
   "execution_count": 103,
   "id": "86440d77",
   "metadata": {},
   "outputs": [
    {
     "name": "stdout",
     "output_type": "stream",
     "text": [
      "PROGRAM STUDI\n",
      "STUDI MATEMATIKA\n",
      "MATEMATIKA UDAYANA\n"
     ]
    }
   ],
   "source": [
    "#latihan 3\n",
    "\n",
    "#padukan dengan index dan perintah print\n",
    "print(Jurusan_18[0:13].upper())\n",
    "print(Jurusan_18[8:24].upper())\n",
    "print(Jurusan_18[14:32].upper())\n",
    "#perhatikan penulisan index nya setelah penulisan parameter\n"
   ]
  },
  {
   "cell_type": "code",
   "execution_count": 83,
   "id": "66fae1cc",
   "metadata": {},
   "outputs": [
    {
     "data": {
      "text/plain": [
       "'program studi matematika udayana'"
      ]
     },
     "execution_count": 83,
     "metadata": {},
     "output_type": "execute_result"
    }
   ],
   "source": [
    "#Latihan 4\n",
    "\n",
    "#masih dengan parameter yang sama seperti latihan sebelumnya\n",
    "#coba tidak menulis ulang parameternya, tidak apa karena seblumnya sudah tersimpan dalam memori\n",
    "\n",
    "Jurusan_18 = 'Program Studi Matematika Udayana'\n",
    "#lower untuk mengubah tulisan judul menjadi huruf kecil semua\n",
    "Jurusan_18.lower()"
   ]
  },
  {
   "cell_type": "code",
   "execution_count": 104,
   "id": "7cc780a8",
   "metadata": {
    "scrolled": true
   },
   "outputs": [
    {
     "name": "stdout",
     "output_type": "stream",
     "text": [
      "program studi\n",
      "studi matematika\n",
      "matematika udayana\n"
     ]
    }
   ],
   "source": [
    "#Latihan 5\n",
    "\n",
    "#bisa juga dipadukan dengan index dan perintah print\n",
    "print(Jurusan_18[0:13].lower())\n",
    "print(Jurusan_18[8:24].lower())\n",
    "print(Jurusan_18[14:32].lower())"
   ]
  },
  {
   "cell_type": "code",
   "execution_count": 106,
   "id": "7b85f94f",
   "metadata": {},
   "outputs": [
    {
     "name": "stdout",
     "output_type": "stream",
     "text": [
      "25\n",
      "14\n",
      "-1\n"
     ]
    }
   ],
   "source": [
    "#Latihan 6\n",
    "\n",
    "#masih dengan parameter yang sama seperti latihan sebelumnya\n",
    "#coba tidak menulis ulang parameternya, tidak apa karena seblumnya sudah tersimpan dalam memori\n",
    "#coba langsung gunakan perintah print\n",
    "print(Jurusan_18.find('Udayana'))\n",
    "#find untuk mencari huruf pertama dari kata yang kita cari\n",
    "#jadi yang dicari adalah urutan huruf U dari kata udayana dalam variabel\n",
    "#berbeda dengan len yang perhitungannya dimulai dari 1, dalam find perhitungannya dimulai dari 0\n",
    "print(Jurusan_18.find('Matematika Udayana'))\n",
    "#mencoba yang lain\n",
    "print(Jurusan_18.find('program studi'))\n",
    "#python sangat sensitive, kesalahan penulisan variabel berupa huruf kecil dan kapital yang tidak sesuai bisa menyebabkan data tidak ditemukan\n",
    "#jadi, harus teliti dalam penulisan kata walauun hanya huruf kecil dan kapital\n",
    "#pencarian kata diatas ketika di run akan menghasilkan -1 karena kata 'program studi' tidak ditemukan"
   ]
  },
  {
   "cell_type": "code",
   "execution_count": 111,
   "id": "c90d3d4f",
   "metadata": {},
   "outputs": [
    {
     "name": "stdout",
     "output_type": "stream",
     "text": [
      "Program Studi Farmasi Udayana\n",
      "Program Studi Matematika Undiksha\n",
      "Program Studi Matematika Udayana\n"
     ]
    }
   ],
   "source": [
    "#Latihan 9\n",
    "\n",
    "#masih dengan parameter yang sama seperti latihan sebelumnya\n",
    "#coba tidak menulis ulang parameternya, tidak apa karena seblumnya sudah tersimpan dalam memori\n",
    "#coba langsung gunakan perintah print\n",
    "print(Jurusan_18.replace('Matematika', 'Farmasi'))\n",
    "print(Jurusan_18.replace('Udayana', 'Undiksha'))\n",
    "print(Jurusan_18.replace('matematika', 'Kimia'))\n",
    "#ingat, perhatikan huruf kapital dan huruf kecil, ketika ada kesalahan penulisan kata variabel, maka perintah replace menjadi tidak bisa mengganti kata, maka katanya akan tetap sama seperti semula\n",
    "#kesalahannya adalah huruf 'm' pada kata Matematika yang harusnya kapital"
   ]
  },
  {
   "cell_type": "code",
   "execution_count": 115,
   "id": "7957b410",
   "metadata": {},
   "outputs": [
    {
     "name": "stdout",
     "output_type": "stream",
     "text": [
      "True\n",
      "False\n",
      "False\n"
     ]
    }
   ],
   "source": [
    "#Latihan 10\n",
    "\n",
    "#langsung padukan dengan perintah print\n",
    "#berikut adalah cara untuk mengecek kebenaran ada atau tidak katanya di dalam judul\n",
    "print('Matematika' in Jurusan_18)\n",
    "#benar, terdapat kata Matematika\n",
    "print('udayana' in Jurusan_18)\n",
    "#tidak ada kata udayana, yang ada adalah Udayana\n",
    "print('Undiksha' in Jurusan_18)\n",
    "#tidak terdapat kata undiksha"
   ]
  },
  {
   "cell_type": "markdown",
   "id": "53c041f4",
   "metadata": {},
   "source": [
    "## 5.7 Operasi Matematika di Python"
   ]
  },
  {
   "cell_type": "markdown",
   "id": "7c8e7d2a",
   "metadata": {},
   "source": [
    "### 5.7.1 Pendahuluan\n",
    "Terdapat operasi matematika di Python seperti: \n",
    "Penjumlahan (+), Pengurangan (-), Perkalian(*), Pembagian (/), Pembulatan pembagian (//), Modulo (%), Pemangkatan (**), Augmented operator."
   ]
  },
  {
   "cell_type": "markdown",
   "id": "cb6c60da",
   "metadata": {},
   "source": [
    "### 5.7.2 Contoh Latihan"
   ]
  },
  {
   "cell_type": "code",
   "execution_count": 116,
   "id": "302761cd",
   "metadata": {},
   "outputs": [
    {
     "name": "stdout",
     "output_type": "stream",
     "text": [
      "7\n",
      "-1\n",
      "6\n",
      "2.3333333333333335\n",
      "2\n",
      "1\n",
      "7\n",
      "6\n",
      "18\n"
     ]
    }
   ],
   "source": [
    "#latihan 1\n",
    "\n",
    "print(3+4)\n",
    "#tanda + untuk menambahkan 2 bilangan\n",
    "print(3-4)\n",
    "#tanda - untuk mengurangi 1 bilangan dengan bilangan lainnya\n",
    "print(2*3)\n",
    "#tanda * untuk mengalikan 2 bilangan\n",
    "print(7/3)\n",
    "#tanda / untuk membagi bilangan\n",
    "print(7//3)\n",
    "#tanda // untuk membagi bilangan kemudian hasil pembagiannya dibulatkan\n",
    "print(7%3)\n",
    "#tanda % digunakan untuk mencari hasil sisa bagi\n",
    "\n",
    "x=4\n",
    "x+=3\n",
    "print(x)\n",
    "#hasil x didapat dengan menambahkan 4 dengan 3\n",
    "#akan menghasilkan x baru, karena x lama sudah tertupuk\n",
    "#menghasilkan x=7 ketika di run\n",
    "x-=1\n",
    "print(x)\n",
    "#kemudian x baru yang dihasilkan dikurangkan dengan 1, maka menghasilkan x baru lagi yaitu x=6\n",
    "x*=3\n",
    "print(x)\n",
    "#kemudian coba lagi dengan mengalikan x = 6 dengan 3, maka didapat x baru lagi yaitu x = 18"
   ]
  },
  {
   "cell_type": "code",
   "execution_count": 36,
   "id": "d6410687",
   "metadata": {},
   "outputs": [
    {
     "name": "stdout",
     "output_type": "stream",
     "text": [
      "jari-jari lingkaran = 18\n",
      "------------------------------------------\n",
      "Luas lingkaran adalah = 1018.2857142857142\n"
     ]
    }
   ],
   "source": [
    "#Latihan 2\n",
    "\n",
    "#coba berlatih menemukan luas bangun datar\n",
    "#padukan dengan perintah print, input, dan type data\n",
    "#menggunakan operasi matematika pada python yaitu bagi (/) dan kali (*)\n",
    "#misalkan diketahui sebuah lingkaran dengan jari-jari (r) dan phi\n",
    "r = float (input('jari-jari lingkaran = '))\n",
    "phi = 22/7\n",
    "#menghitung luas lingkaran dengan operasi matematika pada python\n",
    "print('------------------------------------------')\n",
    "Luas_Lingkaran = 22/7*r*r\n",
    "print('Luas lingkaran adalah =',Luas_Lingkaran)"
   ]
  },
  {
   "cell_type": "code",
   "execution_count": 39,
   "id": "4c173f03",
   "metadata": {},
   "outputs": [
    {
     "name": "stdout",
     "output_type": "stream",
     "text": [
      "alas bawah trapesium = 19\n",
      "alas atas trapesium = 22\n",
      "tinggi trapesium = 31\n",
      "------------------------------\n",
      "Luas trapesium adalah =  635.5\n"
     ]
    }
   ],
   "source": [
    "#Latihan 3\n",
    "\n",
    "#coba berlatih lagi untuk menemukan luas trapesium\n",
    "#padukan dengan perintah print, input, dan type data\n",
    "#menggunakan operasi matematika pada python yaitu bagi (/), penambahan (+) dan kali (*)\n",
    "alas_bawah = int(input('alas bawah trapesium = '))\n",
    "alas_atas = int(input('alas atas trapesium = '))\n",
    "tinggi = int(input('tinggi trapesium = '))\n",
    "##menghitung luas trapesium dengan operasi matematika pada python\n",
    "print('------------------------------')\n",
    "Luas_trapesium = 1/2*(alas_bawah + alas_atas)*tinggi\n",
    "print('Luas trapesium adalah = ',Luas_trapesium)"
   ]
  },
  {
   "cell_type": "code",
   "execution_count": 34,
   "id": "4d6cb725",
   "metadata": {},
   "outputs": [
    {
     "name": "stdout",
     "output_type": "stream",
     "text": [
      "a = 11 dan b = 5\n",
      "---------------------------\n",
      "a + b =  16\n",
      "a - b =  6\n",
      "a % b =  1\n",
      "a * b =  55\n",
      "a ** b =  161051\n",
      "a / b =  2.2\n",
      "a // b =  2\n",
      "a * b / 5 + 123 =  134.0\n",
      "a ** 4 - 17 % 3 * 9 // 6 + b =  14643\n",
      "a + 311 / 60 - 30 * 7 + 200*b =  806.1833333333334\n"
     ]
    }
   ],
   "source": [
    "#latihan 4\n",
    "\n",
    "#coba perhitungan yang lebih kompleks\n",
    "#coba padukan dengan perintah print\n",
    "a = 11\n",
    "b = 5\n",
    "print ('a = 11' + ' dan ' + 'b = 5')\n",
    "print ('---------------------------')\n",
    "print ('a + b = ', a+b)\n",
    "print ('a - b = ', a-b)\n",
    "print ('a % b = ', a%b)\n",
    "print ('a * b = ', a*b)\n",
    "print ('a ** b = ', a**b)\n",
    "print ('a / b = ', a/b)\n",
    "print ('a // b = ', a//b)\n",
    "print ('a * b / 5 + 123 = ', a*b/5+123)\n",
    "print ('a ** 4 - 17 % 3 * 9 // 6 + b = ', a**4-17%3*9//6+b)\n",
    "print ('a + 311 / 60 - 30 * 7 + 200*b = ', a+311/60-30*7+200*b)"
   ]
  },
  {
   "cell_type": "markdown",
   "id": "be93eb5a",
   "metadata": {},
   "source": [
    "## 5.8 Operator Perbandingan di Python"
   ]
  },
  {
   "cell_type": "markdown",
   "id": "6f423f11",
   "metadata": {},
   "source": [
    "### 5.8.1 Pendahuluan\n",
    "Beberapa operator perbandingan pada Python adalah: Lebih besar (>), Lebih kecil (<), Lebih besar sama dengan (>=), Lebih kecil sama dengan (<=), Sama dengan (==), Tidak sama dengan (!=)."
   ]
  },
  {
   "cell_type": "markdown",
   "id": "2647f21f",
   "metadata": {},
   "source": [
    "### 5.8.2 Contoh Latihan"
   ]
  },
  {
   "cell_type": "code",
   "execution_count": 2,
   "id": "c782b4e8",
   "metadata": {},
   "outputs": [
    {
     "name": "stdout",
     "output_type": "stream",
     "text": [
      "True\n",
      "True\n",
      "False\n",
      "True\n",
      "False\n"
     ]
    }
   ],
   "source": [
    "#latihan 1\n",
    "\n",
    "x = 8>2\n",
    "print(x)\n",
    "x = 8 >= 2\n",
    "print (x)\n",
    "x = 8 == 7\n",
    "print(x)\n",
    "x = 8 != 2\n",
    "print(x)\n",
    "#== adalah artinya dengan\n",
    "#!= artinya tidak sama dengan\n",
    "x = 2>8\n",
    "#akan menghasilkan false\n",
    "#coba buktikan\n",
    "x>=4 <=4\n",
    "print(x)"
   ]
  },
  {
   "cell_type": "code",
   "execution_count": 10,
   "id": "77b241c2",
   "metadata": {},
   "outputs": [
    {
     "name": "stdout",
     "output_type": "stream",
     "text": [
      "tinggi badan ayah adalah =  163 cm\n",
      "tinggi badan ibu adalah =  158 cm\n",
      "-----------------------------------\n",
      "ibu lebih tinggi dari ayah: False\n",
      "tinggi ayah berbeda dengan tinggi ibu: True\n",
      "ibu lebih pendek dari ayah: True\n",
      "tinggi ibu kurang dari 155 cm: False\n",
      "tinggi ayah lebih dari 161 cm: True\n",
      "tinggi ayah lebih dari sama dengan 163: True\n"
     ]
    }
   ],
   "source": [
    "#Latihan 2\n",
    "\n",
    "#padukan perintah print dan perbandingan pada python\n",
    "#coba selidiki tinggi badan ayah dan ibu\n",
    "Tiggi_badan_ayah = 'TA'\n",
    "Tinggi_badan_ibu = 'TI'\n",
    "TA = 163\n",
    "TI = 158\n",
    "#print kalimat yang diinginkan\n",
    "#selidiki kebenarannya\n",
    "print('tinggi badan ayah adalah = ', TA, 'cm')\n",
    "print('tinggi badan ibu adalah = ', TI, 'cm')\n",
    "print('-----------------------------------')\n",
    "print('ibu lebih tinggi dari ayah:', TI>TA)\n",
    "print('tinggi ayah berbeda dengan tinggi ibu:', TA!=TI)\n",
    "print('ibu lebih pendek dari ayah:', TI<TA)\n",
    "print('tinggi ibu kurang dari 155 cm:', TI<155)\n",
    "print('tinggi ayah lebih dari 161 cm:', 161<TA)\n",
    "print('tinggi ayah lebih dari sama dengan 163:', TA>=163)\n",
    "#coba dengan tidak hanya menggunakan tinggi badan ayah dan ibu, coba menggunakan besaran lain juga"
   ]
  },
  {
   "cell_type": "code",
   "execution_count": 1,
   "id": "48434674",
   "metadata": {},
   "outputs": [
    {
     "name": "stdout",
     "output_type": "stream",
     "text": [
      "ketikkan angka pertama: 3\n",
      "ketikkan angka kedua: 9\n",
      "---------------------\n",
      "a =  3\n",
      "b =  9\n",
      "---------------------\n",
      "a == b: False\n",
      "a != c: False\n",
      "a > b: False\n",
      "a < b: True\n",
      "a >= b: False\n",
      "a <= b: True\n"
     ]
    }
   ],
   "source": [
    "#Latihan 3\n",
    "\n",
    "#padukan perintah input, print dan operator perbandingan pada python\n",
    "#pertama-tama input nilai a dan b\n",
    "a=input('ketikkan angka pertama: ')\n",
    "b=input('ketikkan angka kedua: ')\n",
    "#kemudian print semua perbandingan yang diinginkan\n",
    "print('---------------------')\n",
    "print('a = ', a)\n",
    "print('b = ', b)\n",
    "print('---------------------')\n",
    "print('a == b:', a==b)\n",
    "print('a != c:', a!=a)\n",
    "print('a > b:', a>b)\n",
    "print('a < b:', a<b)\n",
    "print('a >= b:', a>=b)\n",
    "print('a <= b:', a<=b)"
   ]
  },
  {
   "cell_type": "markdown",
   "id": "15fad742",
   "metadata": {},
   "source": [
    "## 5.9 Operator Logika di Python"
   ]
  },
  {
   "cell_type": "markdown",
   "id": "02481537",
   "metadata": {},
   "source": [
    "### 5.9.1 Pendahuluan\n",
    "Beberapa operator logika pada Python adalah and, or dan not.\n",
    "1. Operator and akan bernilai True jika kedua nilai adalah True\n",
    "2. Operator or akan bernilai True jika salah satu nilainya adalah True\n",
    "3. Operator not akan menghasilkan nilai berlawanan. Misalkan nilai variabel x adalah True, maka nilai dari not(x) adalah False. "
   ]
  },
  {
   "cell_type": "markdown",
   "id": "480c7d8c",
   "metadata": {},
   "source": [
    "### 5.9.2 Contoh Latihan"
   ]
  },
  {
   "cell_type": "code",
   "execution_count": 47,
   "id": "7d618404",
   "metadata": {
    "scrolled": true
   },
   "outputs": [
    {
     "name": "stdout",
     "output_type": "stream",
     "text": [
      "aku punya buah apel 5 buah\n",
      "aku punya buah nanas 10 buah\n",
      "------------------------------------------------------------------------------------------\n",
      "buah apel lebih banyak dari buah nanas atau buah nanas kurang dari 5: False\n",
      "negasi dari (buah apel lebih banyak dari buah nanas atau buah nanas kurang dari 5): True\n",
      "buah apel lebih dari 8 buah atau buah nanas kurang dari 15 buah: True\n",
      "buah apel kurang dari 4 buah atau buah nanas kurang dari 12 buah: True\n",
      "negasi dari (buah apel lebih dari 4 buah dan buah nanas kurang dari 15 buah): False\n"
     ]
    }
   ],
   "source": [
    "#Latihan 1\n",
    "\n",
    "#sebelum mulai latihan, baca kembali bagian 5.9.1 Pendahuluan\n",
    "buah_apel = 5\n",
    "buah_nanas = 10\n",
    "print('aku punya buah apel', buah_apel, 'buah')\n",
    "print('aku punya buah nanas', buah_nanas, 'buah')\n",
    "print('------------------------------------------------------------------------------------------')\n",
    "print('buah apel lebih banyak dari buah nanas atau buah nanas kurang dari 5:', buah_apel > buah_nanas or buah_nanas < 5)\n",
    "print('negasi dari (buah apel lebih banyak dari buah nanas atau buah nanas kurang dari 5):', not(buah_apel > buah_nanas or buah_nanas < 5))\n",
    "print('buah apel lebih dari 8 buah atau buah nanas kurang dari 15 buah:', buah_apel < 8 or buah_nanas < 15)\n",
    "print('buah apel kurang dari 4 buah atau buah nanas kurang dari 12 buah:', buah_apel < 4 or buah_nanas < 12)\n",
    "print('negasi dari (buah apel lebih dari 4 buah dan buah nanas kurang dari 15 buah):', not(buah_apel > 4 and buah_nanas < 15))"
   ]
  },
  {
   "cell_type": "code",
   "execution_count": 48,
   "id": "19ac58ee",
   "metadata": {},
   "outputs": [
    {
     "name": "stdout",
     "output_type": "stream",
     "text": [
      "tinggi badan ayah adalah =  163 cm\n",
      "tinggi badan ibu adalah =  158 cm\n",
      "tinggi badan kakak adalah =  160 cm\n",
      "------------------------------------------------------------------------------------------------\n",
      "ayah lebih tinggi dari ibu atau ibu lebih pendek dari ayah:  True\n",
      "ibu lebih pendek dari ayah atau kakak lebih tinggi dari ayah:  True\n",
      "ibu lebih pendek dari ayah dan kakak lebih tinggi dari ayah:  False\n",
      "kakak lebih tinggi dari ayah atau  ibu lebih tinggi dari kakak: False\n",
      "kakak lebih pendek dari ayah dan Ibu lebih pendek dari kakak: True\n",
      "tinggi ibu lebih dari 163 cm dan tinggi ayah kurang dari 158 cm: False\n",
      "kakak memiliki tinggi lebih dari ibu atau tinggi kakak kurang dari 165 cm: True\n",
      "tinggi ayah lebih dari 180 cm dan tinggi ayah kurang dari 160: False\n",
      "------------------------------------------------------------------------------------------------\n",
      "negasi dari (ayah lebih tinggi dari ibu atau ibu lebih pendek dari ayah):  False\n",
      "negasi dari (ibu lebih pendek dari ayah atau kakak lebih tinggi dari ayah):  False\n",
      "negasi dari (ibu lebih pendek dari ayah dan kakak lebih tinggi dari ayah):  True\n",
      "negasi dari (kakak lebih tinggi dari ayah atau  ibu lebih tinggi dari kakak): True\n",
      "negasi dari (kakak lebih pendek dari ayah dan Ibu lebih pendek dari kakak): False\n",
      "negasi dari (tinggi ibu lebih dari 163 cm dan tinggi ayah kurang dari 158 cm): True\n",
      "negasi dari (kakak memiliki tinggi lebih dari ibu atau tinggi kakak kurang dari 165 cm): False\n",
      "negasi dari (tinggi ayah lebih dari 180 cm dan tinggi ayah kurang dari 160): True\n"
     ]
    }
   ],
   "source": [
    "#Latihan 2\n",
    "\n",
    "#coba selidiki tinggi badan ayah, ibu, dan kakak\n",
    "#coba singkat parameternya agar lebih mudah dalam penulisan code\n",
    "Tiggi_badan_ayah = 'TA'\n",
    "Tinggi_badan_ibu = 'TI'\n",
    "Tinggi_badan_kakak = 'TK'\n",
    "#deklarasikan parameter\n",
    "TA = 163\n",
    "TI = 158\n",
    "TK = 160\n",
    "#print kalimat yang diinginkan\n",
    "print('tinggi badan ayah adalah = ', TA, 'cm')\n",
    "print('tinggi badan ibu adalah = ', TI, 'cm')\n",
    "print('tinggi badan kakak adalah = ', TK, 'cm')\n",
    "print('------------------------------------------------------------------------------------------------')\n",
    "#selidiki kebenarannya menggunakan operator  logika 'OR' & 'AND' pada python\n",
    "print('ayah lebih tinggi dari ibu atau ibu lebih pendek dari ayah: ', TA>TI or TI<TA)\n",
    "print('ibu lebih pendek dari ayah atau kakak lebih tinggi dari ayah: ', TI<TA or TK>TA)\n",
    "print('ibu lebih pendek dari ayah dan kakak lebih tinggi dari ayah: ', TI<TA and TK>TA)\n",
    "print('kakak lebih tinggi dari ayah atau  ibu lebih tinggi dari kakak:', TK>TA or TI>TK)\n",
    "print('kakak lebih pendek dari ayah dan Ibu lebih pendek dari kakak:', TK<TA and TI<TK)\n",
    "print('tinggi ibu lebih dari 163 cm dan tinggi ayah kurang dari 158 cm:', TI>163 and TA<158)\n",
    "print('kakak memiliki tinggi lebih dari ibu atau tinggi kakak kurang dari 165 cm:', TK<TI or TK<165)\n",
    "print('tinggi ayah lebih dari 180 cm dan tinggi ayah kurang dari 160:', TA>180 and TA<160)\n",
    "print('------------------------------------------------------------------------------------------------')\n",
    "#coba selidiki lawan dari beberapa logika yang akan di print di atas dengan menggunakan operator logika \"NOT\", maka setelah di run hasilnya akan berlawanan atau kebalikannya\n",
    "print('negasi dari (ayah lebih tinggi dari ibu atau ibu lebih pendek dari ayah): ', not(TA>TI or TI<TA))\n",
    "print('negasi dari (ibu lebih pendek dari ayah atau kakak lebih tinggi dari ayah): ', not(TI<TA or TK>TA))\n",
    "print('negasi dari (ibu lebih pendek dari ayah dan kakak lebih tinggi dari ayah): ', not(TI<TA and TK>TA))\n",
    "print('negasi dari (kakak lebih tinggi dari ayah atau  ibu lebih tinggi dari kakak):', not(TK>TA or TI>TK))\n",
    "print('negasi dari (kakak lebih pendek dari ayah dan Ibu lebih pendek dari kakak):', not(TK<TA and TI<TK))\n",
    "print('negasi dari (tinggi ibu lebih dari 163 cm dan tinggi ayah kurang dari 158 cm):', not(TI>163 and TA<158))\n",
    "print('negasi dari (kakak memiliki tinggi lebih dari ibu atau tinggi kakak kurang dari 165 cm):', not(TK<TI or TK<165))\n",
    "print('negasi dari (tinggi ayah lebih dari 180 cm dan tinggi ayah kurang dari 160):', not(TA>180 and TA<160))\n",
    "#logika not merupakan negasi\n",
    "#negasi berfungsi sebagai lawan dari suatu hasil logika yang false menjadi true dan yang true jadi false\n",
    "#setelah di run akan terbukti perbedaannya"
   ]
  },
  {
   "cell_type": "markdown",
   "id": "1db643e6",
   "metadata": {},
   "source": [
    "## 5.10 Operator if di Python"
   ]
  },
  {
   "cell_type": "markdown",
   "id": "fa7471f5",
   "metadata": {},
   "source": [
    "### 5.10.1 Pendahuluan\n",
    "Operator if akan dijalankan apabila nilai variabel yang dijalankan adalah True,\n",
    "sedangkan kalau nilainya adalah False, maka tidak akan dijalankan. "
   ]
  },
  {
   "cell_type": "markdown",
   "id": "0c6ce958",
   "metadata": {},
   "source": [
    "### 5.10.2 Contoh Latihan"
   ]
  },
  {
   "cell_type": "code",
   "execution_count": 55,
   "id": "361336b3",
   "metadata": {},
   "outputs": [
    {
     "name": "stdout",
     "output_type": "stream",
     "text": [
      "Anda mendapatkan nilai 60\n",
      "Anda mendapatkan nilai C\n",
      "Tingkatkan lagi dengan lebih giat belajar\n",
      "*******************************************\n",
      "Selamat untuk kalian yang sudah lulus, untuk yang belum lulus jangan berkecil hati dan jangan menyerah untuk mengulang tahun depan agar nilainya semakin baik. Selamat berlibur, sampai jumpa\n"
     ]
    }
   ],
   "source": [
    "#Latihan 1\n",
    "\n",
    "#padukan operator if dengan perintah print, input, dan type data\n",
    "#coba selidiki nilai huruf yang sudah diketahui interval nilai angkanya\n",
    "nilai = float(input(\"Anda mendapatkan nilai \"))\n",
    "if nilai >= 80:\n",
    "    print(\"Anda mendapatkan nilai A\")\n",
    "    print(\"Sangat baik sekali, pertahankan prestasimu!\")\n",
    "if nilai < 80 and nilai >= 70:\n",
    "    print(\"Anda mendapatkan nilai B\")\n",
    "    print(\"Sudah bagus, tingkatkan prestasimu!\")\n",
    "if nilai >= 60 and nilai < 70:\n",
    "    print(\"Anda mendapatkan nilai C\")\n",
    "    print(\"Tingkatkan lagi dengan lebih giat belajar\")\n",
    "if nilai >= 50 and nilai < 60:\n",
    "    print(\"Anda mendapatkan nilai D\")\n",
    "    print(\"Tidak lulus, ulangi kembali tahun depan\")\n",
    "if nilai < 50:\n",
    "    print(\"Anda mendapatkan nilai E\")\n",
    "    print(\"Tidak Lulus, ulangi kembali tahun depan\")\n",
    "print('*******************************************')\n",
    "print('Selamat untuk kalian yang sudah lulus, untuk yang belum lulus jangan berkecil hati dan jangan menyerah untuk mengulang tahun depan agar nilainya semakin baik. Selamat berlibur, sampai jumpa')"
   ]
  },
  {
   "cell_type": "code",
   "execution_count": 6,
   "id": "5c2de255",
   "metadata": {},
   "outputs": [
    {
     "name": "stdout",
     "output_type": "stream",
     "text": [
      "Adik mendapat rangking 11\n",
      "maka Ayah dan Ibu tidak memberi hadiah\n"
     ]
    }
   ],
   "source": [
    "#Latihan 2\n",
    "\n",
    "#padukan operator if dengan perintah print, input, dan type data\n",
    "#selidiki seorang rangking Adik dan hadiah yang akan di dapatkan\n",
    "rangking = int(input('Adik mendapat rangking '))\n",
    "if rangking <= 3:\n",
    "    print('maka Ayah akan memberi hadiah sepeda baru')\n",
    "if rangking > 3 and rangking <= 5:\n",
    "    print('maka Ibu akan memberi hadiah sepatu baru')\n",
    "if rangking > 5 and rangking <= 7:\n",
    "    print('maka Ayah akan memberi hadiah baju baru')\n",
    "if rangking > 7 and rangking <= 10:\n",
    "    print('maka Ibu akan memberi hadiah buku baru')\n",
    "if rangking > 10:\n",
    "    print('maka Ayah dan Ibu tidak memberi hadiah')\n",
    "#ingat sehabis pendeklarasian operator if gunakan  tanda ':'"
   ]
  }
 ],
 "metadata": {
  "kernelspec": {
   "display_name": "Python 3 (ipykernel)",
   "language": "python",
   "name": "python3"
  },
  "language_info": {
   "codemirror_mode": {
    "name": "ipython",
    "version": 3
   },
   "file_extension": ".py",
   "mimetype": "text/x-python",
   "name": "python",
   "nbconvert_exporter": "python",
   "pygments_lexer": "ipython3",
   "version": "3.9.13"
  }
 },
 "nbformat": 4,
 "nbformat_minor": 5
}
