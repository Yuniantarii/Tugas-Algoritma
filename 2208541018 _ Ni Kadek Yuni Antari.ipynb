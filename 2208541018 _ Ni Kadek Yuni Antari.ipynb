{
 "cells": [
  {
   "cell_type": "code",
   "execution_count": 1,
   "id": "4714a9f2",
   "metadata": {},
   "outputs": [
    {
     "name": "stdout",
     "output_type": "stream",
     "text": [
      "Halo Semua..\n"
     ]
    }
   ],
   "source": [
    "#Materi print\n",
    "#Awali dengan sapaan\n",
    "print ('Halo Semua..')"
   ]
  },
  {
   "cell_type": "code",
   "execution_count": 2,
   "id": "61bce555",
   "metadata": {},
   "outputs": [
    {
     "name": "stdout",
     "output_type": "stream",
     "text": [
      "Selamat Datang di Kelas Algoritma dan Struktur Data\n"
     ]
    }
   ],
   "source": [
    "#Materi print\n",
    "#Ucapkan juga sambutan dan perkenalan kelas\n",
    "print ('Selamat Datang di Kelas Algoritma dan Struktur Data')"
   ]
  },
  {
   "cell_type": "code",
   "execution_count": 3,
   "id": "f243dfcc",
   "metadata": {},
   "outputs": [
    {
     "name": "stdout",
     "output_type": "stream",
     "text": [
      "Perkenalkan nama saya Yuni Antari\n"
     ]
    }
   ],
   "source": [
    "#Materi print\n",
    "#Perkenalan diri\n",
    "Perkenalan = 'Perkenalkan nama saya '\n",
    "Nama_Depan = 'Yuni '\n",
    "Nama_Belakang = 'Antari'\n",
    "print (Perkenalan + Nama_Depan + Nama_Belakang)"
   ]
  },
  {
   "cell_type": "code",
   "execution_count": 4,
   "id": "2d933115",
   "metadata": {},
   "outputs": [
    {
     "name": "stdout",
     "output_type": "stream",
     "text": [
      "Saya Kuliah di Universitas Udayana\n"
     ]
    }
   ],
   "source": [
    "#Materi print\n",
    "#Perkenalan kampus\n",
    "print ('Saya Kuliah di Universitas Udayana')"
   ]
  },
  {
   "cell_type": "code",
   "execution_count": 5,
   "id": "cfb9a770",
   "metadata": {},
   "outputs": [
    {
     "name": "stdout",
     "output_type": "stream",
     "text": [
      "Prodi Matematika, Fakultas MIPA\n"
     ]
    }
   ],
   "source": [
    "#Materi print\n",
    "#Perkenalan jurusan\n",
    "Prodi = 'Prodi Matematika, '\n",
    "Fakultas = 'Fakultas MIPA'\n",
    "print (Prodi + Fakultas)"
   ]
  },
  {
   "cell_type": "code",
   "execution_count": 63,
   "id": "3b73fea8",
   "metadata": {},
   "outputs": [
    {
     "name": "stdout",
     "output_type": "stream",
     "text": [
      "86\n"
     ]
    }
   ],
   "source": [
    "#Materi print\n",
    "#Jumlah mahasiswa prodi matematika angkatan 2022\n",
    "Jumlah_Kelas_Angkatan_2022 = 2\n",
    "Jumlah_Mahasiswa_Dalam_Satu_Kelas = 43\n",
    "print(Jumlah_Kelas_Angkatan_2022*Jumlah_Mahasiswa_Dalam_Satu_Kelas)"
   ]
  },
  {
   "cell_type": "code",
   "execution_count": 2,
   "id": "1605deac",
   "metadata": {},
   "outputs": [
    {
     "name": "stdout",
     "output_type": "stream",
     "text": [
      "Anda kelas apa? kelas A\n",
      "Sedang apa kelas A Sekarang? sedang belajar\n",
      "Belajar Mata kuliah apa? Algoritma dan Struktur Data\n",
      "Siapa yang mengajar? Pak Eka Dwipayana\n",
      "kelas A sedang belajar Algoritma dan Struktur Data yang diajar oleh Pak Eka Dwipayana\n"
     ]
    }
   ],
   "source": [
    "#Materi Input\n",
    "#Kegiatan kelas yang kegiatan rutinnya adalah belajar dan diajar oleh dosen\n",
    "Kelas = input('Anda kelas apa? ')\n",
    "Kegiatan = input('Sedang apa ' + Kelas + ' ' + 'Sekarang? ')\n",
    "Mata_Kuliah = input('Belajar Mata kuliah apa? ')\n",
    "Dosen = input('Siapa yang mengajar? ' )\n",
    "print(Kelas +' ' + Kegiatan + ' ' + Mata_Kuliah + ' '+ 'yang diajar oleh ' + Dosen)"
   ]
  },
  {
   "cell_type": "code",
   "execution_count": 3,
   "id": "92574864",
   "metadata": {},
   "outputs": [
    {
     "name": "stdout",
     "output_type": "stream",
     "text": [
      "Materi apa yang diajarkan? print, input, tipe data pada python, dan formatted string\n",
      "Apakah selesai pelajaran ada diberikan tugas?ada\n",
      "Kapan batas waktu pengumpulan tugasnya?19 Maret 2023\n",
      "Materi yang diajarkan adalah print, input, tipe data pada python, dan formatted string, setelah itu ada tugas yang batas waktu pengumpulannya tanggal 19 Maret 2023\n"
     ]
    }
   ],
   "source": [
    "#Materi input\n",
    "#Pembahasan materi yang sudah diajarkan dan tugas yang diberikan\n",
    "Materi = input('Materi apa yang diajarkan? ')\n",
    "Tugas = input('Apakah selesai pelajaran ada diberikan tugas?' )\n",
    "Deadline_Tugas = input('Kapan batas waktu pengumpulan tugasnya?' )\n",
    "print('Materi yang diajarkan adalah'+ ' ' + Materi + ',' + ' ' + 'setelah itu' + ' ' + Tugas + ' '+ 'tugas yang batas waktu pengumpulannya tanggal' + ' ' + Deadline_Tugas)"
   ]
  },
  {
   "cell_type": "code",
   "execution_count": 64,
   "id": "5dca51a4",
   "metadata": {},
   "outputs": [
    {
     "name": "stdout",
     "output_type": "stream",
     "text": [
      "Ini adalah tugas yang diberikan tanggal 13 Maret 2023, \n",
      "Tugas sebelumnya adalah membuat akun github\n"
     ]
    }
   ],
   "source": [
    "#Materi print\n",
    "#Pembahasan terkait tugas yang sudah diberikan\n",
    "print('Ini adalah tugas yang diberikan tanggal 13 Maret 2023, ')\n",
    "print('Tugas sebelumnya adalah membuat akun github')"
   ]
  },
  {
   "cell_type": "code",
   "execution_count": 1,
   "id": "e662b8e2",
   "metadata": {},
   "outputs": [
    {
     "name": "stdout",
     "output_type": "stream",
     "text": [
      "Saat saya sedang mengerjakan tugas, adik saya bertanya tentang berapa hasil kali dari 2 angka yang disebutkannya\n",
      "Angka Pertama = 1.9\n",
      "Angka Kedua = 2.4\n",
      "Hasil kalinya adalah = 4.56\n"
     ]
    }
   ],
   "source": [
    "#Materi tipe data pada python\n",
    "#Gangguan saat saya sedang mengerjakan tugas\n",
    "print('Saat saya sedang mengerjakan tugas, adik saya bertanya tentang berapa hasil kali dari 2 angka yang disebutkannya')\n",
    "Angka_1 = input('Angka Pertama = ')\n",
    "Angka_2 = input('Angka Kedua = ')\n",
    "Hasil_Kali = float(Angka_1) * float(Angka_2)\n",
    "print('Hasil kalinya adalah = ' + str(Hasil_Kali))"
   ]
  },
  {
   "cell_type": "code",
   "execution_count": 9,
   "id": "2c5b1770",
   "metadata": {},
   "outputs": [
    {
     "name": "stdout",
     "output_type": "stream",
     "text": [
      "Berapa jumlah tugas yang baru diberikan? 1\n",
      "Berapa jumlah tugas sebelumnya yang sudah diberikan? 1\n",
      "Total tugas yang telah diberikan adalah 2\n"
     ]
    }
   ],
   "source": [
    "#Materi tipe data pada python\n",
    "#Pembahasan terkait jumlah tugas\n",
    "Jumlah_Tugas_Baru = input('Berapa jumlah tugas yang baru diberikan? ')\n",
    "Jumlah_Tugas_Sebelumnya = input('Berapa jumlah tugas sebelumnya yang sudah diberikan? ')\n",
    "Total_Tugas = int(Jumlah_Tugas_Baru) + int(Jumlah_Tugas_Sebelumnya)\n",
    "print('Total tugas yang telah diberikan adalah ' + str(Total_Tugas)) "
   ]
  },
  {
   "cell_type": "code",
   "execution_count": 19,
   "id": "497555e4",
   "metadata": {},
   "outputs": [
    {
     "name": "stdout",
     "output_type": "stream",
     "text": [
      "Lama pelajarannya adalah 150 menit\n"
     ]
    }
   ],
   "source": [
    "#Materi tipe data pada python\n",
    "#Pembahasan lama waktu belajar\n",
    "SKS = 3\n",
    "Lama_Menit_1_SKS = 50\n",
    "print('Lama pelajarannya adalah ' + str(SKS * Lama_Menit_1_SKS) + ' ' + 'menit')"
   ]
  },
  {
   "cell_type": "code",
   "execution_count": 20,
   "id": "6b5fc139",
   "metadata": {},
   "outputs": [
    {
     "name": "stdout",
     "output_type": "stream",
     "text": [
      "Itu semua adalah hak dan kewajiban saya sebagai mahasiswa. Hak untuk bisa mendapatkan pelajaran dan kewajiban untuk mengerjakan tugas\n"
     ]
    }
   ],
   "source": [
    "#Materi print\n",
    "#Penjelasan hak dan kewajiban mahasiswa\n",
    "print('Itu semua adalah hak dan kewajiban saya sebagai mahasiswa. Hak untuk bisa mendapatkan pelajaran dan kewajiban untuk mengerjakan tugas.')"
   ]
  },
  {
   "cell_type": "code",
   "execution_count": 37,
   "id": "d05310c3",
   "metadata": {},
   "outputs": [
    {
     "name": "stdout",
     "output_type": "stream",
     "text": [
      "Saya, Yuni Antari adalah mahasiswa dari Universitas Udayana, yang tentunya sama seperti mahasiswa pada umumnya yaitu memiliki hak dan kewajiban.\n"
     ]
    }
   ],
   "source": [
    "#Materi formatted string\n",
    "#Kesamaan diri dengan mahasiswa lain\n",
    "Diri = 'Saya'\n",
    "Nama = 'Yuni Antari'\n",
    "Pekerjaan = 'mahasiswa'\n",
    "Kampus = 'Universitas Udayana'\n",
    "print(f'{Diri}, {Nama} adalah {Pekerjaan} dari {Kampus}, yang tentunya sama seperti mahasiswa pada umumnya yaitu memiliki hak dan kewajiban.')"
   ]
  },
  {
   "cell_type": "code",
   "execution_count": 52,
   "id": "b090e123",
   "metadata": {},
   "outputs": [
    {
     "name": "stdout",
     "output_type": "stream",
     "text": [
      "Alamat Universitas Udayana adalah di Jalan Raya Kampus Unud, Jimbaran, Kec. Kuta Selatan, Kab. Badung, Bali. \n"
     ]
    }
   ],
   "source": [
    "#Materi formatted string\n",
    "#Alamat kampus saya yaitu Universitas Udayana\n",
    "Nama_Jalan = 'Jalan Raya Kampus Unud, Jimbaran'\n",
    "Nama_Kecamatan = 'Kec. Kuta Selatan'\n",
    "Nama_Kabupaten = 'Kab. Badung'\n",
    "Nama_Provinsi = 'Bali'\n",
    "print('Alamat Universitas Udayana adalah di ' + f'{Nama_Jalan}, {Nama_Kecamatan}, {Nama_Kabupaten}, {Nama_Provinsi}. ')"
   ]
  },
  {
   "cell_type": "code",
   "execution_count": 51,
   "id": "d5145759",
   "metadata": {},
   "outputs": [
    {
     "name": "stdout",
     "output_type": "stream",
     "text": [
      "Sebenarnya Universitas Udayana tersebar di 3 tempat di Bali.\n"
     ]
    }
   ],
   "source": [
    "#Materi print\n",
    "#Sebaran tempat Universitas Udayana\n",
    "print('Sebenarnya Universitas Udayana tersebar di 3 tempat di Bali.')"
   ]
  },
  {
   "cell_type": "code",
   "execution_count": 53,
   "id": "b3e11b0d",
   "metadata": {},
   "outputs": [
    {
     "name": "stdout",
     "output_type": "stream",
     "text": [
      "Universitas Udayana ada di Jimbaran, Sudirman, dan di Nias.\n"
     ]
    }
   ],
   "source": [
    "#Materi formatted string\n",
    "#Sebaran tempat Universitas Udayana\n",
    "Tempat_1 = 'Jimbaran'\n",
    "Tempat_2 = 'Sudirman'\n",
    "Tempat_3 = 'Nias'\n",
    "print('Universitas Udayana ada di ' f'{Tempat_1}, {Tempat_2}, dan di {Tempat_3}.')"
   ]
  },
  {
   "cell_type": "code",
   "execution_count": null,
   "id": "bcfb7eae",
   "metadata": {},
   "outputs": [],
   "source": []
  }
 ],
 "metadata": {
  "kernelspec": {
   "display_name": "Python 3 (ipykernel)",
   "language": "python",
   "name": "python3"
  },
  "language_info": {
   "codemirror_mode": {
    "name": "ipython",
    "version": 3
   },
   "file_extension": ".py",
   "mimetype": "text/x-python",
   "name": "python",
   "nbconvert_exporter": "python",
   "pygments_lexer": "ipython3",
   "version": "3.9.13"
  }
 },
 "nbformat": 4,
 "nbformat_minor": 5
}
