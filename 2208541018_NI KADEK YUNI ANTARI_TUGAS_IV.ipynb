{
 "cells": [
  {
   "cell_type": "markdown",
   "id": "45c67da2",
   "metadata": {},
   "source": [
    "# TUGAS PERTEMUAN KEEMPAT (27/03/2023)"
   ]
  },
  {
   "cell_type": "markdown",
   "id": "4ef92ced",
   "metadata": {},
   "source": [
    "## 5.11 While loop"
   ]
  },
  {
   "cell_type": "markdown",
   "id": "6f214120",
   "metadata": {},
   "source": [
    "#### 5.11.1 Pendahuluan Materi While loop\n",
    "While loop akan selalu dieksekusi selama nilainya True dan akan berhenti saat nilainya menjadi False."
   ]
  },
  {
   "cell_type": "markdown",
   "id": "aee749d3",
   "metadata": {},
   "source": [
    "#### 5.11.2 Contoh Latihan Materi While loop"
   ]
  },
  {
   "cell_type": "code",
   "execution_count": 7,
   "id": "7c024cb5",
   "metadata": {},
   "outputs": [
    {
     "name": "stdout",
     "output_type": "stream",
     "text": [
      "Angka 5 adalah bilangan kelipatan 5 yang kurang dari 30\n",
      "Angka 10 adalah bilangan kelipatan 5 yang kurang dari 30\n",
      "Angka 15 adalah bilangan kelipatan 5 yang kurang dari 30\n",
      "Angka 20 adalah bilangan kelipatan 5 yang kurang dari 30\n",
      "Angka 25 adalah bilangan kelipatan 5 yang kurang dari 30\n"
     ]
    }
   ],
   "source": [
    "#LATIHAN 1\n",
    "#menggunakan perintah while loop, print, tipe data pada python, operasi matematika pada python, dan operator perbandingan pada python \n",
    "\n",
    "#saya ingin mencetak angka kelipatan 5, dari 5 sampai kurang dari 30\n",
    "#maka perlu menggunakan perintah while loop\n",
    "#misalkan saya punya parameter a yang nilainya = 5\n",
    "a = 5\n",
    "while a < 30:\n",
    "#bukti penggunaan perintah while loop yaitu 'while' dan operator perbandingan yaitu '<'\n",
    "#jangan lupa isikan tanda titik dua ':' di akhir, jika tidak isi akan error\n",
    "    print(\"Angka \" + str(a)+\" adalah bilangan kelipatan 5 yang kurang dari 30\")\n",
    "    #jangan lupa gunakan tipe data yaitu string (str) agar parameternya terbaca\n",
    "    #gunakan perintah print agar terlihat saat di run\n",
    "    a += 5\n",
    "    #agar menjadi kelipatan 5, gunakan operasi matematika pada python yaitu += maka setiap baris berikutnya nilai a akan terus bertambah 5, maka bisa menjadi kelipatan 5\n",
    "    #jika sesuai batas akan bernilai true, jika lebih dari batas nilainya akan false, maka dari itu perintahnya akan berhenti"
   ]
  },
  {
   "cell_type": "code",
   "execution_count": 25,
   "id": "18edced4",
   "metadata": {},
   "outputs": [
    {
     "name": "stdout",
     "output_type": "stream",
     "text": [
      "Kelas A akan memilih kelompok menurut NIM\n",
      "Kelompok 2 beranggotakan NIM 2208541009 sampai 2208541012\n",
      "NIM berapa saja yang terletak pada batas tersebut?\n",
      "---------------------------------------------------------------------------------\n",
      "NIM 2208541009 berada diantara 220854108 dan 2208541013\n",
      "NIM 2208541010 berada diantara 220854108 dan 2208541013\n",
      "NIM 2208541011 berada diantara 220854108 dan 2208541013\n",
      "NIM 2208541012 berada diantara 220854108 dan 2208541013\n",
      "---------------------------------------------------------------------------------\n",
      "Sehingga kelompok 2 beranggotakan 4 orang yaitu NIM akhir 009, 010, 011, dan 012\n"
     ]
    }
   ],
   "source": [
    "#LATIHAN 2\n",
    "#menggunakan perintah while loop, print, tipe data pada python, operasi matematika pada python, dan operator perbandingan pada python \n",
    "#perintah yang digunakan masih sama seperti Latihan 1, dan pada kondisi yang sama juga\n",
    "\n",
    "#mencoba perbanyak variasi dengan menggunakan print\n",
    "print('Kelas A akan memilih kelompok menurut NIM')\n",
    "print('Kelompok 2 beranggotakan NIM 2208541009 sampai 2208541012')\n",
    "print('NIM berapa saja yang terletak pada batas tersebut?')\n",
    "print('---------------------------------------------------------------------------------')\n",
    "NIM = 2208541009\n",
    "while NIM < 2208541013 and NIM > 2208541008:\n",
    "    #mencoba variasi baru menggunakan batas interval\n",
    "    print(\"NIM \" + str(NIM) + \" berada diantara 220854108 dan 2208541013\")\n",
    "    NIM += 1\n",
    "    #setiap baris berikutnya akan ditambah 1 sampai sesuai batas yang ditentukan\n",
    "    #ketika bernilai true (pada interval) maka while loop akan terus berjalan\n",
    "print('---------------------------------------------------------------------------------')\n",
    "print('Sehingga kelompok 2 beranggotakan 4 orang yaitu NIM akhir 009, 010, 011, dan 012')\n",
    "#ketika NIM lebih dari 012 maka akan false karena tidak sesuai interval, maka dari itu berhenti di 012"
   ]
  },
  {
   "cell_type": "code",
   "execution_count": 66,
   "id": "fbe45d32",
   "metadata": {
    "scrolled": true
   },
   "outputs": [
    {
     "name": "stdout",
     "output_type": "stream",
     "text": [
      "ooooo\n",
      "oooooo\n",
      "ooooooo\n",
      "------------------------------------------------------------\n",
      "gambar di atas adalah pola trapesium\n",
      "anggap satu o adalah 1 cm\n",
      "maka sisi atasnya adalah 5 cm dan sisi bawahnya adalah 7 cm\n"
     ]
    }
   ],
   "source": [
    "#LATIHAN 3\n",
    "#menggunakan perintah while loop, print, operasi matematika pada python, dan operator perbandingan pada python \n",
    "#perintah yang digunakan masih sama seperti Latihan 1, dan pada kondisi yang sama juga, bedanya tidak memakai tipe data pada python\n",
    "\n",
    "#mencoba variasi membuat pola bangun datar yaitu trapesium dengan panjang sisi atas 5cm dan sisi bawah cm\n",
    "a = 5\n",
    "while a < 8:\n",
    "    print(a* 'o')\n",
    "    #menggunakan operasi matematika pada python yaitu '*'\n",
    "    #setiap a dalam baris dikali 'o', sehingga outputnya hanya berupa pola trapesium yang digambarkan dengan pola 'o'\n",
    "    a += 1\n",
    "#anggap satu 'o' adalah 1 cm\n",
    "#setiap baris berikutnya ditambahkan satu 'o'\n",
    "print('------------------------------------------------------------')\n",
    "print('gambar di atas adalah pola trapesium')\n",
    "print('anggap satu o adalah 1 cm')\n",
    "print('maka sisi atasnya adalah 5 cm dan sisi bawahnya adalah 7 cm')"
   ]
  },
  {
   "cell_type": "code",
   "execution_count": 49,
   "id": "f8bf02a8",
   "metadata": {
    "scrolled": true
   },
   "outputs": [
    {
     "name": "stdout",
     "output_type": "stream",
     "text": [
      "1  x  1  =  1\n",
      "2  x  2  =  4\n",
      "3  x  3  =  9\n",
      "4  x  4  =  16\n",
      "5  x  5  =  25\n",
      "6  x  6  =  36\n",
      "7  x  7  =  49\n",
      "8  x  8  =  64\n",
      "9  x  9  =  81\n"
     ]
    }
   ],
   "source": [
    "#LATIHAN 4\n",
    "#menggunakan perintah while loop, print, tipe data pada python, operasi matematika pada python, dan operator perbandingan pada python \n",
    "#perintah yang digunakan masih sama seperti Latihan 1, dan pada kondisi yang sama juga, bedanya tidak memakai tipe data pada python\n",
    "\n",
    "#mencoba latihan soal variasi baru terkait materi while loop yaitu contoh latihan perkalian bilangan asli 1 sampai 9 dengan dirinya sendiri\n",
    "i = 1\n",
    "while i <=9:\n",
    "    print(i, ' x ', i , ' = ', i*i)\n",
    "    i += 1\n",
    "#arti i+=1 adalah bertambah 1 disetiap baris\n",
    "#ketika di run terlihat menghasilkan pola bilangan kuadrat"
   ]
  },
  {
   "cell_type": "code",
   "execution_count": 52,
   "id": "fd839bb0",
   "metadata": {},
   "outputs": [
    {
     "name": "stdout",
     "output_type": "stream",
     "text": [
      "suku pertama adalah angka: 1\n",
      "suku kedua adalah angka: 2\n",
      "-----------------------------------------------------\n",
      "maka pola bilangan fibonaci sampai Suku ke-9 adalah: \n",
      "1\n",
      "2\n",
      "3\n",
      "5\n",
      "8\n",
      "13\n",
      "21\n"
     ]
    }
   ],
   "source": [
    "#LATIHAN 5\n",
    "#menggunakan perintah while loop, print, tipe data pada python, operasi matematika pada python, dan operator perbandingan pada python \n",
    "#perintah yang digunakan masih sama seperti Latihan 1, dan pada kondisi yang sama juga, bedanya tidak memakai tipe data pada python\n",
    "\n",
    "#latihan variasi baru, yaitu menghitung pola bilangan fibonacci menggunakan while loop\n",
    "print('suku pertama adalah angka: 1')\n",
    "print('suku kedua adalah angka: 2')\n",
    "print('-----------------------------------------------------')\n",
    "print('maka pola bilangan fibonaci sampai Suku ke-9 adalah: ')\n",
    "n = 8\n",
    "n1 = 1\n",
    "n2 = 2\n",
    "i = 1\n",
    "while i<n:\n",
    "    print(n1) \n",
    "    fibo = n1+n2\n",
    "    #berarti artinya 1 + 2 = 3\n",
    "    #nilai suku ke-3 adalah 3 (bisa dicek nanti setelah di run)\n",
    "    n1 = n2\n",
    "    n2 = fibo\n",
    "    i+=1\n",
    "#setelah di run, akan terlihat pola bilangan fibonaccinya, diperoleh dengan cara menjumlahkan 2 bilangan sebelumnya"
   ]
  },
  {
   "cell_type": "code",
   "execution_count": 53,
   "id": "9c9fde8b",
   "metadata": {},
   "outputs": [
    {
     "name": "stdout",
     "output_type": "stream",
     "text": [
      "Bilangan Asli 1 Hingga N\n",
      "Masukkan Bilangan Asli N = 5\n",
      "1\n",
      "2\n",
      "3\n",
      "4\n",
      "5\n"
     ]
    }
   ],
   "source": [
    "#lATIHAN 6\n",
    "#menggunakan perintah print, input data, tipe data pada python, operator perbandingan, operasi matematika pada python\n",
    "\n",
    "#saya ingin mencetak bilangan asli 1 hingga N\n",
    "i = 1\n",
    "#bilanga N adalah bilangan asli maka menggunakan tipe data integer\n",
    "#saya ingin bilangan N bebas, bisa diinput sendiri\n",
    "print(\"Bilangan Asli 1 Hingga N\")\n",
    "N = int(input('Masukkan Bilangan Asli N = '))\n",
    "while i <= N:\n",
    "    print(i)\n",
    "    i=i+1\n",
    "#setelah di run akan terlihat bilangan asli dari 1 hingga 5"
   ]
  },
  {
   "cell_type": "markdown",
   "id": "9e900088",
   "metadata": {},
   "source": [
    "## 5.12 List di Python"
   ]
  },
  {
   "cell_type": "markdown",
   "id": "b3d17b5a",
   "metadata": {},
   "source": [
    "#### 5.12.1 Pendahuluan Materi List di Python\n",
    "List dapat digunakan saat kita akan merepresentasikan objek di dalam Python baik berupa string maupun berupa angka. List dapat dipanggil urutannya, bahkan isinya dapat dirubah."
   ]
  },
  {
   "cell_type": "markdown",
   "id": "a0484a33",
   "metadata": {},
   "source": [
    "#### 5.12.2 Contoh Latihan Materi List di Python"
   ]
  },
  {
   "cell_type": "code",
   "execution_count": 46,
   "id": "fc523fb0",
   "metadata": {
    "scrolled": true
   },
   "outputs": [
    {
     "name": "stdout",
     "output_type": "stream",
     "text": [
      "--------------{Latihan 1a}--------------\n",
      "['merah', 'kuning', 'hijau']\n",
      "\n",
      "--------------{Latihan 1b}--------------\n",
      "merah\n",
      "kuning\n",
      "hijau\n",
      "\n",
      "--------------{Latihan 1c}--------------\n",
      "hijau\n",
      "kuning\n",
      "merah\n",
      "\n",
      "--------------{Latihan 1d}--------------\n",
      "['jingga', 'kuning', 'hijau']\n",
      "\n",
      "['jingga', 'kuning', 'biru']\n",
      "\n",
      "['jingga', 'kuning', 'ungu']\n",
      "\n",
      "--------------{Latihan 1e}--------------\n",
      "['jingga', 'kuning']\n",
      "\n",
      "--------------{Latihan 1f}--------------\n",
      "['jingga', 'kuning', 'ungu']\n"
     ]
    }
   ],
   "source": [
    "#LATIHAN 1\n",
    "#menggunakan perintah print dan list di python\n",
    "\n",
    "print('--------------{Latihan 1a}--------------')\n",
    "#cara print keseluruhan objeknya\n",
    "warna = ['merah', 'kuning', 'hijau']\n",
    "print(warna)\n",
    "print('')\n",
    "#selanjutnya pada latihan sampai 1f mempresentasikan objek yang sama seperti 1a, list akan dipanggil urutannya dan dirubah \n",
    "\n",
    "#hampir sama seperti string index, tapi yang diperhatikan adalah urutan objeknya bukan urutan hurufnya\n",
    "#objek pertama adalah urutan ke-0, untuk lebih jelasnya lihat latihan berikut\n",
    "print('--------------{Latihan 1b}--------------')\n",
    "#mencoba memanggil masing-masing objeknya dengan urutan, dari urutan awal yaitu 0 sampai 2\n",
    "print(warna[0])\n",
    "#urutan objek nya dimulai dari awal yaitu urutan ke-0\n",
    "#merah adalah objek urutan ke-0\n",
    "print(warna[1])\n",
    "#kuning adalah urutan objek ke-1\n",
    "print(warna[2])\n",
    "#hijau adalah urutan objek ke-2\n",
    "print('')\n",
    "\n",
    "print('--------------{Latihan 1c}--------------')\n",
    "#mencoba mencetak masing-masing objeknya, namun dari urutan paling belakang sampai ke awal\n",
    "#hasilnya berkebalikan dengan latihan 1b\n",
    "print(warna[-1])\n",
    "#urutan objek dari paling belakang\n",
    "print(warna[-2])\n",
    "#urutan objek nomor 2 dari belakang (sama dengan objek yang ada di tengah, dan sama dengan objek warna urutan ke-2 dari awaal)\n",
    "print(warna[-3])\n",
    "#urutan objek nomor 3 dari belakang (sama dengan urutan paling awal saat diurutkan dari depan)\n",
    "print('')\n",
    "\n",
    "print('--------------{Latihan 1d}--------------')\n",
    "#mencoba mengganti objek di paling depan\n",
    "warna[0] = 'jingga'\n",
    "print(warna)\n",
    "print('')\n",
    "#mencoba mengganti objek di paling belakang\n",
    "warna[-1] = 'biru'\n",
    "print(warna)\n",
    "print('')\n",
    "#mencoba mengganti objek di urutan tengah\n",
    "warna[2] = 'ungu'\n",
    "print(warna)\n",
    "print('')\n",
    "\n",
    "print('--------------{Latihan 1e}--------------')\n",
    "#mencoba mencetak tidak semua objek yang ada\n",
    "print(warna[0:2])\n",
    "print('')\n",
    "\n",
    "print('--------------{Latihan 1f}--------------')\n",
    "#mencoba mencetak lagi\n",
    "#ketika kita run, latihan 1e tidak mempengaruhi latihan 1f\n",
    "#tidak akan merubah list, tetap akan di cetak hasil dari 1d bagian yang paling akhir yaitu warna jingga, kuning, dan ungu\n",
    "print(warna)"
   ]
  },
  {
   "cell_type": "code",
   "execution_count": 48,
   "id": "1b5061b9",
   "metadata": {
    "scrolled": true
   },
   "outputs": [
    {
     "name": "stdout",
     "output_type": "stream",
     "text": [
      "Ada 7 hari dalam 1 minggu, yaitu: \n",
      "['Senin', 'Selasa', 'Rabu', 'Kamis', 'Jumat', 'Sabtu', 'Minggu']\n",
      " \n",
      "Aku kuliah hanya dari hari ['Senin', 'Selasa', 'Rabu', 'Kamis']\n",
      " \n",
      "Hari Senin aku kuliah, mendapat matkul Algoritma dan Struktur Data & Struktur Aljabar\n",
      "Hari Selasa aku kuliah, mendapat matlul Kalkulus II & Statistika Dasar\n",
      "Hari Rabu aku kuliah, mendapat matkul Agama Hindu & Aljabar Linier Elementer\n",
      "Hari Kamis aku kuliah, mendapat matkul Geometri Analitik & Praktikum Statistika Dasar\n",
      " \n",
      "Hari ['Jumat', 'Sabtu', 'Minggu'] aku libur kuliah\n",
      "\n",
      "Tapi biasanya Jumat dipakai sebagai hari matkul Pengganti\n"
     ]
    }
   ],
   "source": [
    "#LATIHAN 2\n",
    "#menggunakan perintah print dan list pada python\n",
    "\n",
    "#pada latihan ini saya mencoba memanggil urutan list nya\n",
    "print('Ada 7 hari dalam 1 minggu, yaitu: ')\n",
    "Hari = ['Senin', 'Selasa', 'Rabu', 'Kamis', 'Jumat', 'Sabtu', 'Minggu']\n",
    "#print hari agar terlihat di hasil output\n",
    "print(Hari)\n",
    "print(' ')\n",
    "Mata_Kuliah = ['Algoritma dan Struktur Data', 'Struktur Aljabar', 'Kalkulus II', 'Statistika Dasar', 'Agama Hindu', 'Aljabar Linier Elementer', 'Geometri Analitik', 'Praktikum Statistika Dasar']\n",
    "#tidak usah print matkul\n",
    "\n",
    "print('Aku kuliah hanya dari hari', Hari[0:4])\n",
    "#objek urutan ke-0 adalah 'Senin' dan urutan ke-4 adalah 'Jumat', tapi urutan ke-4 tidak ikut, hanya sampai urutan ke-3 yaitu 'Kamis'\n",
    "print(' ')\n",
    "#coba panggil objek yang ada di list Hari dan Mata_Kuliah\n",
    "#gunakan perinta print juga, untuk menampilkan hasil\n",
    "print('Hari', Hari[0], 'aku kuliah, mendapat matkul', Mata_Kuliah[0], '&', Mata_Kuliah[1])\n",
    "print('Hari', Hari[1], 'aku kuliah, mendapat matlul', Mata_Kuliah[2], '&', Mata_Kuliah[3])\n",
    "print('Hari', Hari[2], 'aku kuliah, mendapat matkul', Mata_Kuliah[4], '&', Mata_Kuliah[5])\n",
    "print('Hari', Hari[3], 'aku kuliah, mendapat matkul', Mata_Kuliah[6], '&', Mata_Kuliah[7])\n",
    "print(' ')\n",
    "print('Hari', Hari[4:8], 'aku libur kuliah')\n",
    "#Urutan ke-4 adalah 'Jumat' dan urutan ke-7 adalah 'Minggu' (ingat urutan ke-8 tidak ikut), bisa cek saat run\n",
    "print('')\n",
    "print('Tapi biasanya', Hari[4], 'dipakai sebagai hari matkul Pengganti')"
   ]
  },
  {
   "cell_type": "code",
   "execution_count": 66,
   "id": "f9673533",
   "metadata": {},
   "outputs": [
    {
     "name": "stdout",
     "output_type": "stream",
     "text": [
      "Diketahui beberapa bangun datar, sebagai berikut:\n",
      "['Persegi', 'Persegi Panjang', 'Segitiga', 'Trapesium', 'Jajar Genjang', 'Layang-Layang', 'Belah Ketupat', 'Lingkaran']\n",
      " \n",
      "Berikut adalah beberapa ciri-ciri dari bangun datar tersebut:\n",
      " \n",
      "- Persegi dan Persegi Panjang memiliki 4 sudut siku-siku\n",
      "- Segitiga dan Trapesium memiliki jenis yaitu, sama kaki, siku-siku, dan sembarang\n",
      "- Jajar Genjang Layang-Layang dan Belah Ketupat memiliki 4 buah sisi\n",
      "- Ciri dari Lingkaran adalah memiliki tak terhingga simetri lipat dan tidak mempunyai titik sudut\n",
      " \n",
      "Tambahkan segi lima ke dalam list:\n",
      "['Persegi', 'Persegi Panjang', 'Segitiga', 'Trapesium', 'Jajar Genjang', 'Segi Lima', 'Belah Ketupat', 'Lingkaran']\n"
     ]
    }
   ],
   "source": [
    "#LATIHAN 3\n",
    "#menggunakan perintah print dan list pada python\n",
    "\n",
    "#konsepnya sama seperti LATIHAN 2, tapi kali ini saya ingin list nya adalah bangun datar\n",
    "print('Diketahui beberapa bangun datar, sebagai berikut:')\n",
    "Bangun_Datar = ['Persegi', 'Persegi Panjang', 'Segitiga', 'Trapesium', 'Jajar Genjang', 'Layang-Layang', 'Belah Ketupat', 'Lingkaran']\n",
    "print(Bangun_Datar)\n",
    "print(' ')\n",
    "print('Berikut adalah beberapa ciri-ciri dari bangun datar tersebut:')\n",
    "print(' ')\n",
    "print('-', Bangun_Datar[0], 'dan', Bangun_Datar[1], 'memiliki 4 sudut siku-siku')\n",
    "print('-', Bangun_Datar[2], 'dan', Bangun_Datar[3], 'memiliki jenis yaitu, sama kaki, siku-siku, dan sembarang')\n",
    "print('-', Bangun_Datar[4], Bangun_Datar[5], 'dan', Bangun_Datar[6], 'memiliki 4 buah sisi')\n",
    "print('- Ciri dari', Bangun_Datar[7], 'adalah memiliki tak terhingga simetri lipat dan tidak mempunyai titik sudut')\n",
    "print(' ')\n",
    "#saya mencoba menambahkan bangun datar segi lima ke dalam list\n",
    "print('Tambahkan segi lima ke dalam list:')\n",
    "Bangun_Datar[5] = 'Segi Lima'\n",
    "print(Bangun_Datar)"
   ]
  },
  {
   "cell_type": "markdown",
   "id": "55e94465",
   "metadata": {},
   "source": [
    "## 5.13 Metoda List"
   ]
  },
  {
   "cell_type": "markdown",
   "id": "d92a604f",
   "metadata": {},
   "source": [
    "#### 5.13.1 Pendahuluan Materi Metoda List\n",
    "Karena list merupakan objek, maka keberadaannya dapat dimanipulasi dengan menambahkan atau menghilangkan isi nya dengan metoda list."
   ]
  },
  {
   "cell_type": "markdown",
   "id": "c35c26d7",
   "metadata": {},
   "source": [
    "#### 5.13.2 Contoh Latihan Materi List di Python"
   ]
  },
  {
   "cell_type": "code",
   "execution_count": 100,
   "id": "80838e50",
   "metadata": {},
   "outputs": [
    {
     "name": "stdout",
     "output_type": "stream",
     "text": [
      "*************************{Latihan 1a}************************\n",
      "['NI', 'KADEK', 'YUNI', 'ANTARI', 'PUTRI']\n",
      "\n",
      "*************************{Latihan 1b}************************\n",
      "['GUSTI', 'NI', 'KADEK', 'YUNI', 'ANTARI', 'PUTRI']\n",
      "\n",
      "*************************{Latihan 1c}************************\n",
      "['GUSTI', 'NI', 'AYU', 'KADEK', 'YUNI', 'ANTARI', 'PUTRI']\n",
      "\n",
      "*************************{Latihan 1d}************************\n",
      "['GUSTI', 'AYU', 'KADEK', 'YUNI', 'ANTARI']\n",
      "\n",
      "*************************{Latihan 1e}************************\n",
      "True\n",
      "False\n",
      "\n",
      "*************************{Latihan 1e}************************\n",
      "5\n",
      "3\n",
      "4\n",
      "\n",
      "*************************{Latihan 1f}************************\n",
      "['GUSTI', 'AYU', 'KADEK', 'ANTARI']\n",
      "\n",
      "*************************{Latihan 1g}************************\n",
      "[]\n"
     ]
    }
   ],
   "source": [
    "#LATIHAN 1\n",
    "#menggunakan perintah print, list pada python dan metoda list\n",
    "\n",
    "#hampir sama seperti string index, karena sama-sama memanipulasi urutan\n",
    "#saya mencoba menggunakan nama saya menjadi objek\n",
    "print('*************************{Latihan 1a}************************')\n",
    "NAMA_18 = ['NI', 'KADEK', 'YUNI', 'ANTARI']\n",
    "#saya ingin menambahkan sebuah objek setelah urutan terakhir objek yaitu \"ANTARI\" maka menggunakan 'append'\n",
    "NAMA_18.append('PUTRI')\n",
    "print(NAMA_18)\n",
    "print('')\n",
    "\n",
    "print('*************************{Latihan 1b}************************')\n",
    "#masih menggunakan list yang sama seperti 1a jd tidak usah diketik ulang\n",
    "NAMA_18.insert(0, 'GUSTI')\n",
    "#saya ingin menambahkan sebuah objek di awal, sehingga akan menjadi urutan ke-0, maka perlu menggunakan 'insert'\n",
    "#jangan lupa tambahkan angka '0' karena ingin menambahkan objek di awal\n",
    "print(NAMA_18)\n",
    "print('')\n",
    "#terllihat nama objek yang ditambahkan di 1a akan terus ikut, begitu pula pada soal 1b ini\n",
    "#setiap di run akan tersimpan dimemori baru\n",
    "\n",
    "print('*************************{Latihan 1c}************************')\n",
    "#saya masih ingin menambahkan objek\n",
    "#mencoba menambahkan objek yang akan menjadi urutan ke-2, yaitu setelah objek 'GUSTI'\n",
    "#isikan urutan objek yang akan ditambahkan\n",
    "NAMA_18.insert(2, 'AYU')\n",
    "print(NAMA_18)\n",
    "print('')\n",
    "\n",
    "print('*************************{Latihan 1d}************************')\n",
    "#saya ingin mencoba menghapus objek 'NI' dan 'PUTRI' maka menggunakan 'remove'\n",
    "NAMA_18.remove('NI')\n",
    "NAMA_18.remove('PUTRI')\n",
    "print(NAMA_18)\n",
    "print('')\n",
    "\n",
    "print('*************************{Latihan 1e}************************')\n",
    "#saya ingin mencoba mengecek kebenaran suatu objek\n",
    "print('YUNI' in NAMA_18)\n",
    "#pasti akan true\n",
    "print('PUTRI' in NAMA_18)\n",
    "#pasti false, karena objek 'PUTRI' sudah dihapus\n",
    "print('')\n",
    "\n",
    "print('*************************{Latihan 1e}************************')\n",
    "#saya ingin mengetahui seluruh jumlah objek, bukan urutan objek, maka bisa menggunakan 'len'\n",
    "print(len(NAMA_18))\n",
    "#saya ingin mengetahui jumlah objek dari 1 sampai 2 dari belakang (menggunakan -1)\n",
    "print(len(NAMA_18[1:-1]))\n",
    "#saya ingi mengetahui jumlah objek ke-2 sampai akhir\n",
    "print(len(NAMA_18[1:]))\n",
    "print('')\n",
    "\n",
    "print('*************************{Latihan 1f}************************')\n",
    "#menghapus elemen dengan index tertentu menggunakan 'del'\n",
    "#berbeda dengan 'remove', kalau 'remove' menghaapus elemen dengan nilai tertentu, sedangkan 'del' menghapus elemen dengan index tertentu\n",
    "del Keluarga_Besar[0:2]\n",
    "del NAMA_18[3]\n",
    "print(NAMA_18)\n",
    "print('')\n",
    "\n",
    "print('*************************{Latihan 1g}************************')\n",
    "#menghapus semua elemen atau mengosongkan list\n",
    "NAMA_18.clear()\n",
    "print(NAMA_18)"
   ]
  },
  {
   "cell_type": "code",
   "execution_count": 71,
   "id": "6ae1abb2",
   "metadata": {},
   "outputs": [
    {
     "name": "stdout",
     "output_type": "stream",
     "text": [
      "Bilangan prima yang kurang dari 13 =  ['2', '3', '5', '7', '11']\n",
      "Bilangan prima yang kurang dari 13 dan ganjil =  ['3', '5', '7', '11']\n",
      "Bilangan prima sampai batas 13 dan ganjil =  ['3', '5', '7', '11', '13']\n",
      "Bilangan prima yang kurang dari 17 =  ['2', '3', '5', '7', '11', '13']\n",
      "---------------------------------------------------------------------------\n",
      "Jumlah seruluh objek yang ada adalah =  6\n",
      "objeknya yaitu ['2', '3', '5', '7', '11', '13']\n"
     ]
    }
   ],
   "source": [
    "#LATIHAN 2\n",
    "#menggunakan perintah print, list pada python, dan metoda list\n",
    "\n",
    "#mencoba menggunakan objek berupa angka/bilangan\n",
    "#saya ingin objeknya adalah bilangan prima yang kurang dari 13\n",
    "bilangan_prima = ['2', '3', '5', '7', '11']\n",
    "print('Bilangan prima yang kurang dari 13 = ', bilangan_prima)\n",
    "\n",
    "#saya ingin menghapus '2' agar objeknya menjadi bilangan prima dan ganjil yang kurang dari 13\n",
    "bilangan_prima.remove('2')\n",
    "print('Bilangan prima yang kurang dari 13 dan ganjil = ', bilangan_prima)\n",
    "\n",
    "#saya ingin menambahkan 1 bilangan prima lagi yang lebih besar dari 11, yaitu 13\n",
    "bilangan_prima.insert(6, '13')\n",
    "print('Bilangan prima sampai batas 13 dan ganjil = ', bilangan_prima)\n",
    "\n",
    "#saya ingin menambahkan objek '2' lagi agar menjadi bilangan prima yang kurang dari 17\n",
    "bilangan_prima.insert(0, '2')\n",
    "print('Bilangan prima yang kurang dari 17 = ', bilangan_prima)\n",
    "\n",
    "print('---------------------------------------------------------------------------')\n",
    "#saya ingin menghitung jumlah objek yang ada pada 'bilangan_prima'\n",
    "print('Jumlah seruluh objek yang ada adalah = ', len(bilangan_prima))\n",
    "print('objeknya yaitu', bilangan_prima)"
   ]
  },
  {
   "cell_type": "code",
   "execution_count": 101,
   "id": "68af6c90",
   "metadata": {},
   "outputs": [
    {
     "name": "stdout",
     "output_type": "stream",
     "text": [
      "Aku punya keluarga besar dan kami hidup bahagia bersama\n",
      "['Kakek', 'Nenek', 'Ayah', 'Ibu', 'Kakak', 'Aku', 'Adik']\n",
      "\n",
      "Tapi, ['Kakek', 'Nenek'] sudah tiada\n",
      "\n",
      "Sekarang kami hanya tinggal ber- 5\n",
      "yaitu, ['Ayah', 'Ibu', 'Kakak', 'Aku', 'Adik']\n",
      "\n",
      "Kakak juga akan segera menikah\n",
      "\n",
      "Berarti sebentar lagi hanya ['Ayah', 'Ibu', 'Aku', 'Adik'] yang tinggal bersama\n",
      "\n",
      "Agar rumah tidak sepi, kami membeli binatang peliharaan bernama Popol\n",
      "\n",
      "Kemudian kami akan tinggal ber- 5\n"
     ]
    }
   ],
   "source": [
    "#lATIHAN 3\n",
    "#menggunakan perintah print, list pada python, dan metoda list\n",
    "\n",
    "#mencoba bercerita menggunakan metoda list\n",
    "print('Aku punya keluarga besar dan kami hidup bahagia bersama')\n",
    "#presentasikan elemen dalam list dengan menyebutkan anggota keluarga\n",
    "Keluarga_Besar = ['Kakek', 'Nenek', 'Ayah', 'Ibu', 'Kakak', 'Aku', 'Adik']\n",
    "#jangan lupa print agar terlihat saat sudah di run\n",
    "print(Keluarga_Besar)\n",
    "print('')\n",
    "#mencoba memanggil list\n",
    "print('Tapi,', Keluarga_Besar[0:2], 'sudah tiada')\n",
    "print('')\n",
    "#jangan lupa gunakan metoda list\n",
    "print('Sekarang kami hanya tinggal ber-',len(Keluarga_Besar[2:7]))\n",
    "#coba hapus elemen yang sudah tidak ada menggunakan 'del', berbeda dengan 'remove', kalau 'remove' menghaapus elemen dengan nilai tertentu, sedangkan 'del' menghapus elemen dengan index tertentu\n",
    "del Keluarga_Besar[0:2]\n",
    "print('yaitu,', Keluarga_Besar)\n",
    "print('')\n",
    "print(Keluarga_Besar[2], 'juga akan segera menikah')\n",
    "#coba hapus elemen lagi dengan menggunakan 'remove'\n",
    "Keluarga_Besar.remove('Kakak')\n",
    "print('')\n",
    "#lanjutkan cerita\n",
    "print('Berarti sebentar lagi hanya', Keluarga_Besar, 'yang tinggal bersama')\n",
    "print('')\n",
    "print('Agar rumah tidak sepi, kami membeli binatang peliharaan bernama Popol')\n",
    "#mencoba menambahkan elemen\n",
    "Keluarga_Besar.insert(5, 'Popol')\n",
    "print('')\n",
    "print('Kemudian kami akan tinggal ber-', len(Keluarga_Besar))\n",
    "#cerita selesai"
   ]
  },
  {
   "cell_type": "markdown",
   "id": "86edb61f",
   "metadata": {},
   "source": [
    "## 5.14 For loop"
   ]
  },
  {
   "cell_type": "markdown",
   "id": "3c860aa8",
   "metadata": {},
   "source": [
    "#### 5.14.1 Pendahuluan Materi For loop\n",
    "For loop dapat digunakan untuk memanggil semua isi list. "
   ]
  },
  {
   "cell_type": "markdown",
   "id": "13987259",
   "metadata": {},
   "source": [
    "   #### 5.14.2 Contoh Latihan Materi For loop"
   ]
  },
  {
   "cell_type": "code",
   "execution_count": 104,
   "id": "285b8b9a",
   "metadata": {},
   "outputs": [
    {
     "name": "stdout",
     "output_type": "stream",
     "text": [
      "A\n",
      "L\n",
      "G\n",
      "O\n",
      "R\n",
      "I\n",
      "T\n",
      "M\n",
      "A\n"
     ]
    }
   ],
   "source": [
    "#LATIHAN 1\n",
    "#menggunakan perintah print dan for  loop\n",
    "\n",
    "#latihan sederhana menggunakan for loop\n",
    "#saya ingin merubah elemen huruf penyusun kata ALGORITMA menjadi baris\n",
    "Matkul = ['A', 'L', 'G', 'O', 'R', 'I', 'T', 'M', 'A']\n",
    "for huruf in Matkul:\n",
    "    print(huruf)\n",
    "#setelah di run akan terlihat bahwa jumlah elemen sama dengan jumlah baris"
   ]
  },
  {
   "cell_type": "code",
   "execution_count": 84,
   "id": "af3913ed",
   "metadata": {
    "scrolled": true
   },
   "outputs": [
    {
     "name": "stdout",
     "output_type": "stream",
     "text": [
      "----------------------------------------\n",
      "menggunakan for loop, hasilnya:\n",
      "merah\n",
      "kuning\n",
      "hijau\n",
      "biru\n",
      "----------------------------------------\n",
      "menggunakan perintah while, hasilnya:\n",
      "merah\n",
      "kuning\n",
      "hijau\n",
      "biru\n",
      "----------------------------------------\n",
      "maka hasil output keduanya akan sama\n"
     ]
    }
   ],
   "source": [
    "#LATIHAN 2\n",
    "#menggunakan perintah print dan for  loop, dan coba membandingan dengan while loop\n",
    "\n",
    "#menggunakan for loop\n",
    "print('----------------------------------------')\n",
    "print('menggunakan for loop, hasilnya:')\n",
    "warna = ['merah', 'kuning', 'hijau', 'biru']\n",
    "for jenis in warna:\n",
    "    print(jenis)\n",
    "#setelah di run, objeknya akan berubah menjadi baris\n",
    "print('----------------------------------------')\n",
    "#coba bandingkan dengan perintah while loop, maka sebenarnya akan terlihat sama \n",
    "print('menggunakan perintah while, hasilnya:')\n",
    "i = 0\n",
    "while i < len(warna):\n",
    "    print(warna[i])\n",
    "    i+=1\n",
    "#setelah di run, objeknya akan berubah menjadi baris\n",
    "print('----------------------------------------')\n",
    "print('maka hasil output keduanya akan sama')"
   ]
  },
  {
   "cell_type": "code",
   "execution_count": 89,
   "id": "41eb13f4",
   "metadata": {
    "scrolled": true
   },
   "outputs": [
    {
     "name": "stdout",
     "output_type": "stream",
     "text": [
      "bilangan prima ganjil yang kurang dari 12\n",
      "----------------------------------------\n",
      "menggunakan for loop, hasilnya:\n",
      "3\n",
      "7\n",
      "11\n",
      "----------------------------------------\n",
      "menggunakan perintah while, hasilnya:\n",
      "3\n",
      "7\n",
      "11\n",
      "----------------------------------------\n",
      "maka hasil output keduanya akan sama\n"
     ]
    }
   ],
   "source": [
    "#LATIHAN 3\n",
    "#menggunakan perintah print dan for  loop, dan coba membandingan dengan while loop\n",
    "\n",
    "#mencoba lagi hal yang sama seperti LATIHAN 1\n",
    "#kali ini saya menggunakan objek berupa angka\n",
    "#akan dicoba lagi membuktikan 2 perintah yang menghasilkan hasil yang sama\n",
    "#pertama, coba dengan for loop\n",
    "print('bilangan prima ganjil yang kurang dari 12')\n",
    "print('----------------------------------------')\n",
    "print('menggunakan for loop, hasilnya:')\n",
    "bilangan_prima = ['3', '7', '11']\n",
    "for ganjil in bilangan_prima:\n",
    "    print(ganjil)\n",
    "print('----------------------------------------')\n",
    "#coba bandingkan dengan perintah while loop, maka sebenarnya akan terlihat sama \n",
    "print('menggunakan perintah while, hasilnya:')\n",
    "x=0\n",
    "while x < len(bilangan_prima):\n",
    "    print(bilangan_prima[x])\n",
    "    x+=1\n",
    "print('----------------------------------------')\n",
    "print('maka hasil output keduanya akan sama')\n",
    "#sama seperti LATIHAN 1, maka hasil pada LATIHAN 2 juga akan sama walaupun perintahnya berbeda"
   ]
  },
  {
   "cell_type": "markdown",
   "id": "9ff32d98",
   "metadata": {},
   "source": [
    "## 5.15 Fungsi Range"
   ]
  },
  {
   "cell_type": "markdown",
   "id": "c4f53547",
   "metadata": {},
   "source": [
    "#### 5.15.1 Pendahuluan Materi Fungsi Range\n",
    "Fungsi range berguna untuk membangkitkan bilangan berurutan atau berpola yang kita inginkan. Untuk menuliskannya, perlu dikombinasikan dengan for loop. "
   ]
  },
  {
   "cell_type": "markdown",
   "id": "8eb8b50c",
   "metadata": {},
   "source": [
    "#### 5.15.2 Contoh Latihan Materi Fungsi Range"
   ]
  },
  {
   "cell_type": "code",
   "execution_count": 109,
   "id": "8daf50d7",
   "metadata": {},
   "outputs": [
    {
     "name": "stdout",
     "output_type": "stream",
     "text": [
      "range(0, 10)\n",
      "-----------\n",
      "0\n",
      "1\n",
      "2\n",
      "3\n",
      "4\n",
      "5\n",
      "6\n",
      "7\n",
      "8\n",
      "9\n",
      "-----------\n",
      "3\n",
      "4\n",
      "5\n",
      "6\n",
      "7\n",
      "8\n",
      "9\n",
      "-----------\n",
      "1\n",
      "3\n",
      "5\n",
      "7\n",
      "9\n"
     ]
    }
   ],
   "source": [
    "#LATIHAN 1\n",
    "#menggunakan perintah print, fungsi range, for loop\n",
    "\n",
    "#saya ingin membangkitkan semua bilangan berurutan yang membentuk kata 'algoritma'\n",
    "algoritma = range(10)\n",
    "print(algoritma)\n",
    "print('-----------')\n",
    "#saya ingin print semua isi/bilangan berurutan yang ada pada 'algoritma' sesuai range yang saya inginkan di atas\n",
    "#perlu bantuan perintah for loop\n",
    "for isi in algoritma:\n",
    "    print(isi)\n",
    "print('-----------')\n",
    "#saya ingin print bilangan berurutan ke-3 sampai terakhir\n",
    "for isi in range (3,10):\n",
    "    print(isi)\n",
    "print('-----------')\n",
    "#saya ingin print bilangan dari urutan ke-1 sampai akhir, saya ingin setiap urutan ditambahkan 2. Maka range nya menjadi seperti berikut\n",
    "for isi in range (1,10,2):\n",
    "    print(isi)"
   ]
  },
  {
   "cell_type": "code",
   "execution_count": 8,
   "id": "3c9b29f8",
   "metadata": {
    "scrolled": true
   },
   "outputs": [
    {
     "name": "stdout",
     "output_type": "stream",
     "text": [
      "* \n",
      "* * \n",
      "* * * \n",
      "* * * * \n",
      "* * * * * \n",
      "* * * * * * \n",
      "* * * * * * * \n",
      "* * * * * * * * \n",
      "* * * * * * * * * \n",
      "* * * * * * * * * * \n"
     ]
    }
   ],
   "source": [
    "#LATIHAN 2\n",
    "#padukan perintah print, fungsi range, for loop, operasi matematika pada python\n",
    "\n",
    "#saya ingin mencetak pola segitiga sama sisi\n",
    "x = 10\n",
    "#vatiabel x adalah untuk menyimpan seberapa banyak baris yang ingin kita cetak\n",
    "for i in range (0,x):\n",
    "#for untuk perulangan dalam membentuk beberapa baris bintang yang akan dicetak\n",
    "    for j in range (0, i+1):\n",
    "    #setiap baris akan bertambah 1 bintang, sehingga bisa membentuk pola segitiga\n",
    "        print('*', end=' ')\n",
    "        #buat pola segitiga sesuka hati\n",
    "        #'*' adalah yang akan menggambarkan pola\n",
    "        #' ' adalah jarak '*' yang saya inginkan adalah 1 spasi\n",
    "        #jika tidak ada 'end= ', polanya hanya menjadi 1 kolom dan banyak baris sama dengan jumlah '*'\n",
    "    print('')\n",
    "    #jika tidak ada print('') maka polanya hanya menjadi 1 baris dan banyak kolom sama dengan jumlah '*'\n",
    "    #begitu di run akan terlihat pola segitiga sama sisi"
   ]
  },
  {
   "cell_type": "code",
   "execution_count": 148,
   "id": "2cbb0960",
   "metadata": {},
   "outputs": [
    {
     "name": "stdout",
     "output_type": "stream",
     "text": [
      "Masukkan Nilai x: 10\n",
      "o o o o o o o o o o \n",
      "* o o o o o o o o o \n",
      "* * o o o o o o o o \n",
      "* * * o o o o o o o \n",
      "* * * * o o o o o o \n",
      "* * * * * o o o o o \n",
      "* * * * * * o o o o \n",
      "* * * * * * * o o o \n",
      "* * * * * * * * o o \n",
      "* * * * * * * * * o \n"
     ]
    }
   ],
   "source": [
    "#LATIHAN 3\n",
    "#padukan perintah print, input, fungsi range, for loop, operasi matematika pada python\n",
    "\n",
    "#saya ingin mencetak pola segi empat\n",
    "x = int(input('Masukkan Nilai x: '))\n",
    "#input panjang baris yang diinginkan\n",
    "for i in range (0,x):\n",
    "    for j in range (0, i):\n",
    "        print('*' , end=' ')\n",
    "    #akan membentuk segitiga siku-siku di kiri bawah\n",
    "    for k in range (0,x):\n",
    "        print('o' , end=' ')\n",
    "    #akan membentuk segitiga siku-siku di kanan atas\n",
    "    x-=1\n",
    "    print('')\n",
    "#ketika 2 segitiga siku-siku digabungkan akan membentuk segi empat"
   ]
  },
  {
   "cell_type": "code",
   "execution_count": 20,
   "id": "98f76219",
   "metadata": {},
   "outputs": [
    {
     "name": "stdout",
     "output_type": "stream",
     "text": [
      "Masukkan Nilai x: 10\n",
      "* * * * * * * * * * \n",
      " * * * * * * * * * \n",
      "  * * * * * * * * \n",
      "   * * * * * * * \n",
      "    * * * * * * \n",
      "     * * * * * \n",
      "      * * * * \n",
      "       * * * \n",
      "        * * \n",
      "         * \n"
     ]
    }
   ],
   "source": [
    "#LATIHAN 4\n",
    "#padukan perintah print, input, fungsi range, for loop, operasi matematika pada python\n",
    "\n",
    "#menggunakan cara yang sama seperti latihan-latihan sebelumnya\n",
    "#akan mencoba membentuk segitiga sama kaki\n",
    "x = int(input('Masukkan Nilai x: '))\n",
    "#input jumlah baris yang diinginkan\n",
    "for i in range (0,x):\n",
    "    for j in range (0, i):\n",
    "        print('' , end=' ')\n",
    "    for k in range (0, x):\n",
    "        print('*' , end=' ')\n",
    "    x-=1\n",
    "    print('')\n",
    "#manipulasi code pada LATIHAN 3 agar membentuk segitiga sama sisi\n",
    "#setelah di run akan terlihat bentuknya"
   ]
  },
  {
   "cell_type": "markdown",
   "id": "e7e0647a",
   "metadata": {},
   "source": [
    "# ***********TERIMA KASIH***********"
   ]
  }
 ],
 "metadata": {
  "kernelspec": {
   "display_name": "Python 3 (ipykernel)",
   "language": "python",
   "name": "python3"
  },
  "language_info": {
   "codemirror_mode": {
    "name": "ipython",
    "version": 3
   },
   "file_extension": ".py",
   "mimetype": "text/x-python",
   "name": "python",
   "nbconvert_exporter": "python",
   "pygments_lexer": "ipython3",
   "version": "3.9.13"
  }
 },
 "nbformat": 4,
 "nbformat_minor": 5
}
